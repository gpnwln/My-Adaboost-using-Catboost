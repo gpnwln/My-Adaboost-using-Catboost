{
 "cells": [
  {
   "cell_type": "markdown",
   "metadata": {
    "id": "v6unq53LcYay"
   },
   "source": [
    "# <center>**ML School by REU Data Scinece Club**</center>\n",
    "\n",
    "----\n",
    "## <center> Неделя №7 </center>"
   ]
  },
  {
   "cell_type": "markdown",
   "metadata": {
    "id": "dKtZBmbhci0L"
   },
   "source": [
    "На этой неделе вам предстоит написать Adaboost, основанный на Decision tree. Это последний алгоритм, который мы будем писать сами."
   ]
  },
  {
   "cell_type": "markdown",
   "metadata": {
    "id": "9PGk_JHSdi9y"
   },
   "source": [
    "Импортируем нужные библиотеки"
   ]
  },
  {
   "cell_type": "code",
   "execution_count": 50,
   "metadata": {
    "id": "FaLUvHZmcLMk"
   },
   "outputs": [],
   "source": [
    "import numpy as np\n",
    "import pandas as pd\n",
    "import math\n",
    "\n",
    "from sklearn.metrics import roc_auc_score\n",
    "from sklearn.tree import DecisionTreeClassifier\n",
    "from sklearn.model_selection import train_test_split"
   ]
  },
  {
   "cell_type": "markdown",
   "metadata": {
    "id": "Z4ORIGRkd6kw"
   },
   "source": [
    "Загрузим данные, мы будем пытаться предсказать космические тела - галактики и звезды(колонка class). Что обозначает каждая колонка нам не особо важно также как и класс. Данные уже обработаны. Если вам интересно почитать о них, то вот [ссылка](https://www.sdss.org/dr18/) на официальный сайт"
   ]
  },
  {
   "cell_type": "code",
   "execution_count": 2,
   "metadata": {
    "colab": {
     "base_uri": "https://localhost:8080/",
     "height": 427
    },
    "executionInfo": {
     "elapsed": 935,
     "status": "ok",
     "timestamp": 1681305124179,
     "user": {
      "displayName": "REU Data Science Club",
      "userId": "18279103372660482898"
     },
     "user_tz": -180
    },
    "id": "M2k-OVxPdvX4",
    "outputId": "a1dc4c7f-4fc6-4f42-b726-ce5fb17b258e"
   },
   "outputs": [
    {
     "data": {
      "text/html": [
       "<div>\n",
       "<style scoped>\n",
       "    .dataframe tbody tr th:only-of-type {\n",
       "        vertical-align: middle;\n",
       "    }\n",
       "\n",
       "    .dataframe tbody tr th {\n",
       "        vertical-align: top;\n",
       "    }\n",
       "\n",
       "    .dataframe thead th {\n",
       "        text-align: right;\n",
       "    }\n",
       "</style>\n",
       "<table border=\"1\" class=\"dataframe\">\n",
       "  <thead>\n",
       "    <tr style=\"text-align: right;\">\n",
       "      <th></th>\n",
       "      <th>ra</th>\n",
       "      <th>dec</th>\n",
       "      <th>u</th>\n",
       "      <th>g</th>\n",
       "      <th>r</th>\n",
       "      <th>i</th>\n",
       "      <th>z</th>\n",
       "      <th>run</th>\n",
       "      <th>rerun</th>\n",
       "      <th>camcol</th>\n",
       "      <th>field</th>\n",
       "      <th>specobjid</th>\n",
       "      <th>class</th>\n",
       "      <th>redshift</th>\n",
       "      <th>plate</th>\n",
       "      <th>mjd</th>\n",
       "      <th>fiberid</th>\n",
       "    </tr>\n",
       "  </thead>\n",
       "  <tbody>\n",
       "    <tr>\n",
       "      <th>26999</th>\n",
       "      <td>250.911166</td>\n",
       "      <td>23.574331</td>\n",
       "      <td>19.52053</td>\n",
       "      <td>19.35182</td>\n",
       "      <td>19.30574</td>\n",
       "      <td>19.06973</td>\n",
       "      <td>19.14445</td>\n",
       "      <td>3926</td>\n",
       "      <td>301</td>\n",
       "      <td>3</td>\n",
       "      <td>180</td>\n",
       "      <td>1592073373284850000</td>\n",
       "      <td>QSO</td>\n",
       "      <td>1.879539</td>\n",
       "      <td>1414</td>\n",
       "      <td>53135</td>\n",
       "      <td>185</td>\n",
       "    </tr>\n",
       "    <tr>\n",
       "      <th>58511</th>\n",
       "      <td>231.821972</td>\n",
       "      <td>38.887347</td>\n",
       "      <td>18.68969</td>\n",
       "      <td>17.19725</td>\n",
       "      <td>16.67180</td>\n",
       "      <td>16.50511</td>\n",
       "      <td>16.43782</td>\n",
       "      <td>3958</td>\n",
       "      <td>301</td>\n",
       "      <td>3</td>\n",
       "      <td>16</td>\n",
       "      <td>3277535113566510000</td>\n",
       "      <td>STAR</td>\n",
       "      <td>-0.000256</td>\n",
       "      <td>2911</td>\n",
       "      <td>54631</td>\n",
       "      <td>147</td>\n",
       "    </tr>\n",
       "    <tr>\n",
       "      <th>91982</th>\n",
       "      <td>251.365852</td>\n",
       "      <td>49.269975</td>\n",
       "      <td>19.41021</td>\n",
       "      <td>18.56163</td>\n",
       "      <td>18.19202</td>\n",
       "      <td>18.04569</td>\n",
       "      <td>17.99791</td>\n",
       "      <td>4679</td>\n",
       "      <td>301</td>\n",
       "      <td>5</td>\n",
       "      <td>127</td>\n",
       "      <td>7113673484606390000</td>\n",
       "      <td>STAR</td>\n",
       "      <td>-0.000386</td>\n",
       "      <td>6318</td>\n",
       "      <td>56186</td>\n",
       "      <td>865</td>\n",
       "    </tr>\n",
       "    <tr>\n",
       "      <th>21577</th>\n",
       "      <td>156.660823</td>\n",
       "      <td>37.774681</td>\n",
       "      <td>16.93023</td>\n",
       "      <td>15.48110</td>\n",
       "      <td>14.77802</td>\n",
       "      <td>14.43641</td>\n",
       "      <td>14.13299</td>\n",
       "      <td>3704</td>\n",
       "      <td>301</td>\n",
       "      <td>1</td>\n",
       "      <td>155</td>\n",
       "      <td>1607820576519380000</td>\n",
       "      <td>GALAXY</td>\n",
       "      <td>0.050919</td>\n",
       "      <td>1428</td>\n",
       "      <td>52998</td>\n",
       "      <td>129</td>\n",
       "    </tr>\n",
       "    <tr>\n",
       "      <th>633</th>\n",
       "      <td>242.529673</td>\n",
       "      <td>43.458183</td>\n",
       "      <td>19.06716</td>\n",
       "      <td>17.20977</td>\n",
       "      <td>16.27894</td>\n",
       "      <td>15.85819</td>\n",
       "      <td>15.53006</td>\n",
       "      <td>3225</td>\n",
       "      <td>301</td>\n",
       "      <td>4</td>\n",
       "      <td>203</td>\n",
       "      <td>1317451096435750000</td>\n",
       "      <td>GALAXY</td>\n",
       "      <td>0.112044</td>\n",
       "      <td>1170</td>\n",
       "      <td>52756</td>\n",
       "      <td>539</td>\n",
       "    </tr>\n",
       "    <tr>\n",
       "      <th>64211</th>\n",
       "      <td>101.783016</td>\n",
       "      <td>27.677375</td>\n",
       "      <td>16.60670</td>\n",
       "      <td>15.47498</td>\n",
       "      <td>15.18488</td>\n",
       "      <td>15.09547</td>\n",
       "      <td>15.11422</td>\n",
       "      <td>6585</td>\n",
       "      <td>301</td>\n",
       "      <td>2</td>\n",
       "      <td>121</td>\n",
       "      <td>3012971717619380000</td>\n",
       "      <td>STAR</td>\n",
       "      <td>0.000080</td>\n",
       "      <td>2676</td>\n",
       "      <td>54179</td>\n",
       "      <td>231</td>\n",
       "    </tr>\n",
       "    <tr>\n",
       "      <th>5508</th>\n",
       "      <td>318.220922</td>\n",
       "      <td>11.205286</td>\n",
       "      <td>18.50027</td>\n",
       "      <td>16.90464</td>\n",
       "      <td>16.27460</td>\n",
       "      <td>16.02399</td>\n",
       "      <td>15.86739</td>\n",
       "      <td>1739</td>\n",
       "      <td>301</td>\n",
       "      <td>5</td>\n",
       "      <td>30</td>\n",
       "      <td>2128055056967170000</td>\n",
       "      <td>STAR</td>\n",
       "      <td>0.000052</td>\n",
       "      <td>1890</td>\n",
       "      <td>53237</td>\n",
       "      <td>379</td>\n",
       "    </tr>\n",
       "    <tr>\n",
       "      <th>37730</th>\n",
       "      <td>121.872070</td>\n",
       "      <td>54.513970</td>\n",
       "      <td>18.56970</td>\n",
       "      <td>16.95687</td>\n",
       "      <td>16.10067</td>\n",
       "      <td>15.66996</td>\n",
       "      <td>15.30100</td>\n",
       "      <td>4294</td>\n",
       "      <td>301</td>\n",
       "      <td>3</td>\n",
       "      <td>107</td>\n",
       "      <td>2106613208302250000</td>\n",
       "      <td>GALAXY</td>\n",
       "      <td>0.102320</td>\n",
       "      <td>1871</td>\n",
       "      <td>53384</td>\n",
       "      <td>198</td>\n",
       "    </tr>\n",
       "    <tr>\n",
       "      <th>93528</th>\n",
       "      <td>14.262778</td>\n",
       "      <td>0.521989</td>\n",
       "      <td>19.34459</td>\n",
       "      <td>17.60751</td>\n",
       "      <td>16.94042</td>\n",
       "      <td>16.68151</td>\n",
       "      <td>16.57630</td>\n",
       "      <td>4263</td>\n",
       "      <td>301</td>\n",
       "      <td>5</td>\n",
       "      <td>211</td>\n",
       "      <td>3503916864013180000</td>\n",
       "      <td>STAR</td>\n",
       "      <td>-0.000110</td>\n",
       "      <td>3112</td>\n",
       "      <td>54802</td>\n",
       "      <td>423</td>\n",
       "    </tr>\n",
       "    <tr>\n",
       "      <th>44964</th>\n",
       "      <td>21.195467</td>\n",
       "      <td>31.941222</td>\n",
       "      <td>17.71389</td>\n",
       "      <td>16.79022</td>\n",
       "      <td>16.47753</td>\n",
       "      <td>16.35932</td>\n",
       "      <td>16.32762</td>\n",
       "      <td>8111</td>\n",
       "      <td>301</td>\n",
       "      <td>5</td>\n",
       "      <td>200</td>\n",
       "      <td>2298122020510000000</td>\n",
       "      <td>STAR</td>\n",
       "      <td>-0.001002</td>\n",
       "      <td>2041</td>\n",
       "      <td>53387</td>\n",
       "      <td>583</td>\n",
       "    </tr>\n",
       "  </tbody>\n",
       "</table>\n",
       "</div>"
      ],
      "text/plain": [
       "               ra        dec         u         g         r         i  \\\n",
       "26999  250.911166  23.574331  19.52053  19.35182  19.30574  19.06973   \n",
       "58511  231.821972  38.887347  18.68969  17.19725  16.67180  16.50511   \n",
       "91982  251.365852  49.269975  19.41021  18.56163  18.19202  18.04569   \n",
       "21577  156.660823  37.774681  16.93023  15.48110  14.77802  14.43641   \n",
       "633    242.529673  43.458183  19.06716  17.20977  16.27894  15.85819   \n",
       "64211  101.783016  27.677375  16.60670  15.47498  15.18488  15.09547   \n",
       "5508   318.220922  11.205286  18.50027  16.90464  16.27460  16.02399   \n",
       "37730  121.872070  54.513970  18.56970  16.95687  16.10067  15.66996   \n",
       "93528   14.262778   0.521989  19.34459  17.60751  16.94042  16.68151   \n",
       "44964   21.195467  31.941222  17.71389  16.79022  16.47753  16.35932   \n",
       "\n",
       "              z   run  rerun  camcol  field            specobjid   class  \\\n",
       "26999  19.14445  3926    301       3    180  1592073373284850000     QSO   \n",
       "58511  16.43782  3958    301       3     16  3277535113566510000    STAR   \n",
       "91982  17.99791  4679    301       5    127  7113673484606390000    STAR   \n",
       "21577  14.13299  3704    301       1    155  1607820576519380000  GALAXY   \n",
       "633    15.53006  3225    301       4    203  1317451096435750000  GALAXY   \n",
       "64211  15.11422  6585    301       2    121  3012971717619380000    STAR   \n",
       "5508   15.86739  1739    301       5     30  2128055056967170000    STAR   \n",
       "37730  15.30100  4294    301       3    107  2106613208302250000  GALAXY   \n",
       "93528  16.57630  4263    301       5    211  3503916864013180000    STAR   \n",
       "44964  16.32762  8111    301       5    200  2298122020510000000    STAR   \n",
       "\n",
       "       redshift  plate    mjd  fiberid  \n",
       "26999  1.879539   1414  53135      185  \n",
       "58511 -0.000256   2911  54631      147  \n",
       "91982 -0.000386   6318  56186      865  \n",
       "21577  0.050919   1428  52998      129  \n",
       "633    0.112044   1170  52756      539  \n",
       "64211  0.000080   2676  54179      231  \n",
       "5508   0.000052   1890  53237      379  \n",
       "37730  0.102320   1871  53384      198  \n",
       "93528 -0.000110   3112  54802      423  \n",
       "44964 -0.001002   2041  53387      583  "
      ]
     },
     "execution_count": 2,
     "metadata": {},
     "output_type": "execute_result"
    }
   ],
   "source": [
    "df = pd.read_csv('galaxy_data.csv').drop('objid', axis=1)\n",
    "df.sample(10)"
   ]
  },
  {
   "cell_type": "markdown",
   "metadata": {
    "id": "vZ3fO4vWoysc"
   },
   "source": [
    "В наших данных три класса. Сейчас мы не будем решать задачу мультиклассовой классификации, поэтому просто удалим 1 класс и изменим обозначения на -1 и 1 "
   ]
  },
  {
   "cell_type": "code",
   "execution_count": 3,
   "metadata": {
    "colab": {
     "base_uri": "https://localhost:8080/"
    },
    "executionInfo": {
     "elapsed": 3,
     "status": "ok",
     "timestamp": 1681305126437,
     "user": {
      "displayName": "REU Data Science Club",
      "userId": "18279103372660482898"
     },
     "user_tz": -180
    },
    "id": "AEplj0vAlY45",
    "outputId": "730aeb09-9187-4561-912b-fad7091200d2"
   },
   "outputs": [
    {
     "data": {
      "text/plain": [
       "GALAXY    51323\n",
       "STAR      38096\n",
       "QSO       10581\n",
       "Name: class, dtype: int64"
      ]
     },
     "execution_count": 3,
     "metadata": {},
     "output_type": "execute_result"
    }
   ],
   "source": [
    "df['class'].value_counts()"
   ]
  },
  {
   "cell_type": "code",
   "execution_count": 4,
   "metadata": {
    "colab": {
     "base_uri": "https://localhost:8080/",
     "height": 488
    },
    "executionInfo": {
     "elapsed": 8,
     "status": "ok",
     "timestamp": 1681305515544,
     "user": {
      "displayName": "REU Data Science Club",
      "userId": "18279103372660482898"
     },
     "user_tz": -180
    },
    "id": "p1xku3LBl-ix",
    "outputId": "e2eb6a91-6c40-47ee-92f7-ddc3a0ed0e9f"
   },
   "outputs": [
    {
     "data": {
      "text/html": [
       "<div>\n",
       "<style scoped>\n",
       "    .dataframe tbody tr th:only-of-type {\n",
       "        vertical-align: middle;\n",
       "    }\n",
       "\n",
       "    .dataframe tbody tr th {\n",
       "        vertical-align: top;\n",
       "    }\n",
       "\n",
       "    .dataframe thead th {\n",
       "        text-align: right;\n",
       "    }\n",
       "</style>\n",
       "<table border=\"1\" class=\"dataframe\">\n",
       "  <thead>\n",
       "    <tr style=\"text-align: right;\">\n",
       "      <th></th>\n",
       "      <th>ra</th>\n",
       "      <th>dec</th>\n",
       "      <th>u</th>\n",
       "      <th>g</th>\n",
       "      <th>r</th>\n",
       "      <th>i</th>\n",
       "      <th>z</th>\n",
       "      <th>run</th>\n",
       "      <th>rerun</th>\n",
       "      <th>camcol</th>\n",
       "      <th>field</th>\n",
       "      <th>specobjid</th>\n",
       "      <th>class</th>\n",
       "      <th>redshift</th>\n",
       "      <th>plate</th>\n",
       "      <th>mjd</th>\n",
       "      <th>fiberid</th>\n",
       "    </tr>\n",
       "  </thead>\n",
       "  <tbody>\n",
       "    <tr>\n",
       "      <th>0</th>\n",
       "      <td>47.372545</td>\n",
       "      <td>0.820621</td>\n",
       "      <td>18.69254</td>\n",
       "      <td>17.13867</td>\n",
       "      <td>16.55555</td>\n",
       "      <td>16.34662</td>\n",
       "      <td>16.17639</td>\n",
       "      <td>4849</td>\n",
       "      <td>301</td>\n",
       "      <td>5</td>\n",
       "      <td>771</td>\n",
       "      <td>8168632633242440000</td>\n",
       "      <td>1</td>\n",
       "      <td>0.000115</td>\n",
       "      <td>7255</td>\n",
       "      <td>56597</td>\n",
       "      <td>832</td>\n",
       "    </tr>\n",
       "    <tr>\n",
       "      <th>1</th>\n",
       "      <td>116.303083</td>\n",
       "      <td>42.455980</td>\n",
       "      <td>18.47633</td>\n",
       "      <td>17.30546</td>\n",
       "      <td>17.24116</td>\n",
       "      <td>17.32780</td>\n",
       "      <td>17.37114</td>\n",
       "      <td>6573</td>\n",
       "      <td>301</td>\n",
       "      <td>6</td>\n",
       "      <td>220</td>\n",
       "      <td>9333948945297330000</td>\n",
       "      <td>1</td>\n",
       "      <td>-0.000093</td>\n",
       "      <td>8290</td>\n",
       "      <td>57364</td>\n",
       "      <td>868</td>\n",
       "    </tr>\n",
       "    <tr>\n",
       "      <th>2</th>\n",
       "      <td>172.756623</td>\n",
       "      <td>-8.785698</td>\n",
       "      <td>16.47714</td>\n",
       "      <td>15.31072</td>\n",
       "      <td>15.55971</td>\n",
       "      <td>15.72207</td>\n",
       "      <td>15.82471</td>\n",
       "      <td>5973</td>\n",
       "      <td>301</td>\n",
       "      <td>1</td>\n",
       "      <td>13</td>\n",
       "      <td>3221211255238850000</td>\n",
       "      <td>1</td>\n",
       "      <td>0.000165</td>\n",
       "      <td>2861</td>\n",
       "      <td>54583</td>\n",
       "      <td>42</td>\n",
       "    </tr>\n",
       "    <tr>\n",
       "      <th>3</th>\n",
       "      <td>201.224207</td>\n",
       "      <td>28.771290</td>\n",
       "      <td>18.63561</td>\n",
       "      <td>16.88346</td>\n",
       "      <td>16.09825</td>\n",
       "      <td>15.70987</td>\n",
       "      <td>15.43491</td>\n",
       "      <td>4649</td>\n",
       "      <td>301</td>\n",
       "      <td>3</td>\n",
       "      <td>121</td>\n",
       "      <td>2254061292459420000</td>\n",
       "      <td>-1</td>\n",
       "      <td>0.058155</td>\n",
       "      <td>2002</td>\n",
       "      <td>53471</td>\n",
       "      <td>35</td>\n",
       "    </tr>\n",
       "    <tr>\n",
       "      <th>4</th>\n",
       "      <td>212.817222</td>\n",
       "      <td>26.625225</td>\n",
       "      <td>18.88325</td>\n",
       "      <td>17.87948</td>\n",
       "      <td>17.47037</td>\n",
       "      <td>17.17441</td>\n",
       "      <td>17.05235</td>\n",
       "      <td>4649</td>\n",
       "      <td>301</td>\n",
       "      <td>3</td>\n",
       "      <td>191</td>\n",
       "      <td>2390305906828010000</td>\n",
       "      <td>-1</td>\n",
       "      <td>0.072210</td>\n",
       "      <td>2123</td>\n",
       "      <td>53793</td>\n",
       "      <td>74</td>\n",
       "    </tr>\n",
       "    <tr>\n",
       "      <th>...</th>\n",
       "      <td>...</td>\n",
       "      <td>...</td>\n",
       "      <td>...</td>\n",
       "      <td>...</td>\n",
       "      <td>...</td>\n",
       "      <td>...</td>\n",
       "      <td>...</td>\n",
       "      <td>...</td>\n",
       "      <td>...</td>\n",
       "      <td>...</td>\n",
       "      <td>...</td>\n",
       "      <td>...</td>\n",
       "      <td>...</td>\n",
       "      <td>...</td>\n",
       "      <td>...</td>\n",
       "      <td>...</td>\n",
       "      <td>...</td>\n",
       "    </tr>\n",
       "    <tr>\n",
       "      <th>99994</th>\n",
       "      <td>332.714103</td>\n",
       "      <td>25.583064</td>\n",
       "      <td>19.53736</td>\n",
       "      <td>17.41563</td>\n",
       "      <td>16.41278</td>\n",
       "      <td>15.95257</td>\n",
       "      <td>15.58614</td>\n",
       "      <td>8116</td>\n",
       "      <td>301</td>\n",
       "      <td>3</td>\n",
       "      <td>67</td>\n",
       "      <td>6708188165264660000</td>\n",
       "      <td>-1</td>\n",
       "      <td>0.076411</td>\n",
       "      <td>5958</td>\n",
       "      <td>56213</td>\n",
       "      <td>278</td>\n",
       "    </tr>\n",
       "    <tr>\n",
       "      <th>99996</th>\n",
       "      <td>173.757382</td>\n",
       "      <td>36.441603</td>\n",
       "      <td>18.33687</td>\n",
       "      <td>17.30365</td>\n",
       "      <td>17.16037</td>\n",
       "      <td>17.14895</td>\n",
       "      <td>17.14419</td>\n",
       "      <td>4504</td>\n",
       "      <td>301</td>\n",
       "      <td>2</td>\n",
       "      <td>111</td>\n",
       "      <td>2265404129658560000</td>\n",
       "      <td>1</td>\n",
       "      <td>-0.000497</td>\n",
       "      <td>2012</td>\n",
       "      <td>53493</td>\n",
       "      <td>340</td>\n",
       "    </tr>\n",
       "    <tr>\n",
       "      <th>99997</th>\n",
       "      <td>205.426531</td>\n",
       "      <td>38.499053</td>\n",
       "      <td>17.50690</td>\n",
       "      <td>15.63152</td>\n",
       "      <td>15.22328</td>\n",
       "      <td>15.04469</td>\n",
       "      <td>15.28668</td>\n",
       "      <td>4382</td>\n",
       "      <td>301</td>\n",
       "      <td>4</td>\n",
       "      <td>97</td>\n",
       "      <td>2257446413900210000</td>\n",
       "      <td>-1</td>\n",
       "      <td>0.004587</td>\n",
       "      <td>2005</td>\n",
       "      <td>53472</td>\n",
       "      <td>62</td>\n",
       "    </tr>\n",
       "    <tr>\n",
       "      <th>99998</th>\n",
       "      <td>337.135144</td>\n",
       "      <td>-9.635967</td>\n",
       "      <td>19.33946</td>\n",
       "      <td>17.21436</td>\n",
       "      <td>16.29697</td>\n",
       "      <td>15.86745</td>\n",
       "      <td>15.51556</td>\n",
       "      <td>2576</td>\n",
       "      <td>301</td>\n",
       "      <td>2</td>\n",
       "      <td>105</td>\n",
       "      <td>811847537492257000</td>\n",
       "      <td>-1</td>\n",
       "      <td>0.084538</td>\n",
       "      <td>721</td>\n",
       "      <td>52228</td>\n",
       "      <td>268</td>\n",
       "    </tr>\n",
       "    <tr>\n",
       "      <th>99999</th>\n",
       "      <td>37.440188</td>\n",
       "      <td>25.400888</td>\n",
       "      <td>18.11769</td>\n",
       "      <td>16.86279</td>\n",
       "      <td>16.31057</td>\n",
       "      <td>16.07582</td>\n",
       "      <td>15.94701</td>\n",
       "      <td>5817</td>\n",
       "      <td>301</td>\n",
       "      <td>5</td>\n",
       "      <td>120</td>\n",
       "      <td>2678586035360790000</td>\n",
       "      <td>1</td>\n",
       "      <td>-0.000085</td>\n",
       "      <td>2379</td>\n",
       "      <td>53762</td>\n",
       "      <td>255</td>\n",
       "    </tr>\n",
       "  </tbody>\n",
       "</table>\n",
       "<p>89419 rows × 17 columns</p>\n",
       "</div>"
      ],
      "text/plain": [
       "               ra        dec         u         g         r         i  \\\n",
       "0       47.372545   0.820621  18.69254  17.13867  16.55555  16.34662   \n",
       "1      116.303083  42.455980  18.47633  17.30546  17.24116  17.32780   \n",
       "2      172.756623  -8.785698  16.47714  15.31072  15.55971  15.72207   \n",
       "3      201.224207  28.771290  18.63561  16.88346  16.09825  15.70987   \n",
       "4      212.817222  26.625225  18.88325  17.87948  17.47037  17.17441   \n",
       "...           ...        ...       ...       ...       ...       ...   \n",
       "99994  332.714103  25.583064  19.53736  17.41563  16.41278  15.95257   \n",
       "99996  173.757382  36.441603  18.33687  17.30365  17.16037  17.14895   \n",
       "99997  205.426531  38.499053  17.50690  15.63152  15.22328  15.04469   \n",
       "99998  337.135144  -9.635967  19.33946  17.21436  16.29697  15.86745   \n",
       "99999   37.440188  25.400888  18.11769  16.86279  16.31057  16.07582   \n",
       "\n",
       "              z   run  rerun  camcol  field            specobjid  class  \\\n",
       "0      16.17639  4849    301       5    771  8168632633242440000      1   \n",
       "1      17.37114  6573    301       6    220  9333948945297330000      1   \n",
       "2      15.82471  5973    301       1     13  3221211255238850000      1   \n",
       "3      15.43491  4649    301       3    121  2254061292459420000     -1   \n",
       "4      17.05235  4649    301       3    191  2390305906828010000     -1   \n",
       "...         ...   ...    ...     ...    ...                  ...    ...   \n",
       "99994  15.58614  8116    301       3     67  6708188165264660000     -1   \n",
       "99996  17.14419  4504    301       2    111  2265404129658560000      1   \n",
       "99997  15.28668  4382    301       4     97  2257446413900210000     -1   \n",
       "99998  15.51556  2576    301       2    105   811847537492257000     -1   \n",
       "99999  15.94701  5817    301       5    120  2678586035360790000      1   \n",
       "\n",
       "       redshift  plate    mjd  fiberid  \n",
       "0      0.000115   7255  56597      832  \n",
       "1     -0.000093   8290  57364      868  \n",
       "2      0.000165   2861  54583       42  \n",
       "3      0.058155   2002  53471       35  \n",
       "4      0.072210   2123  53793       74  \n",
       "...         ...    ...    ...      ...  \n",
       "99994  0.076411   5958  56213      278  \n",
       "99996 -0.000497   2012  53493      340  \n",
       "99997  0.004587   2005  53472       62  \n",
       "99998  0.084538    721  52228      268  \n",
       "99999 -0.000085   2379  53762      255  \n",
       "\n",
       "[89419 rows x 17 columns]"
      ]
     },
     "execution_count": 4,
     "metadata": {},
     "output_type": "execute_result"
    }
   ],
   "source": [
    "df = df[df['class'].isin(['GALAXY', 'STAR'])]\n",
    "df['class'].replace({'GALAXY':-1, 'STAR':1}, inplace=True)\n",
    "df"
   ]
  },
  {
   "cell_type": "markdown",
   "metadata": {
    "id": "v06bwHuUhinv"
   },
   "source": [
    "Разделите данные на train и test указав random_state = 1, test_size=0.25"
   ]
  },
  {
   "cell_type": "code",
   "execution_count": 47,
   "metadata": {},
   "outputs": [],
   "source": [
    "Columns = set(df.columns)\n",
    "Columns.remove('class')\n",
    "Columns = list(Columns)"
   ]
  },
  {
   "cell_type": "code",
   "execution_count": 48,
   "metadata": {
    "id": "Gd3-ce9LhoQc"
   },
   "outputs": [],
   "source": [
    "X_train, X_test, y_train, y_test = train_test_split(df[Columns], df['class'], test_size=0.25, random_state=1)"
   ]
  },
  {
   "cell_type": "markdown",
   "metadata": {
    "id": "DvIucIhujAaR"
   },
   "source": [
    "# **Задание 1. Функции для оптимизации (4 балла)**"
   ]
  },
  {
   "cell_type": "markdown",
   "metadata": {
    "id": "sEzk9QNmkSvq"
   },
   "source": [
    "Реализуем несколько полезных функций. Начнем с функции подсчета ошибки дерева - error_rate"
   ]
  },
  {
   "cell_type": "markdown",
   "metadata": {
    "id": "OxuvXov1pV1n"
   },
   "source": [
    "$$error\\ rate = {\\frac{количество\\ ошибочно\\ предсказанных\\ значений}{общее\\ количество\\ значений}} $$"
   ]
  },
  {
   "cell_type": "code",
   "execution_count": 52,
   "metadata": {
    "id": "qu8S7tKxizxj"
   },
   "outputs": [],
   "source": [
    "def error_rate(y_true, y_pred):\n",
    "    n = 0\n",
    "    \n",
    "    for i in range(len(y_true)):\n",
    "        if (y_true[i] != y_pred[i]):\n",
    "            n += 1  \n",
    "            \n",
    "    error_rate = n / len(y_true)\n",
    "    \n",
    "    return error_rate"
   ]
  },
  {
   "cell_type": "markdown",
   "metadata": {
    "id": "QwVVT21rkvWY"
   },
   "source": [
    "Теперь давайте реализуем подсчет alpha, функция будет определять вес конкретного дерева во всей модели."
   ]
  },
  {
   "cell_type": "markdown",
   "metadata": {
    "id": "wTZK2liprDbI"
   },
   "source": [
    "$$alpha = 0.5 *{\\log_e ({\\frac{1 - error\\ rate}{error\\ rate}})}$$"
   ]
  },
  {
   "cell_type": "code",
   "execution_count": 51,
   "metadata": {
    "id": "5-lzvafAk7M7"
   },
   "outputs": [],
   "source": [
    "def alpha(error_rate):\n",
    "\n",
    "    alpha = 0.5 * math.log((1 - error_rate)/error_rate)\n",
    "    \n",
    "    return alpha"
   ]
  },
  {
   "cell_type": "markdown",
   "metadata": {},
   "source": [
    "Проверим работу двух функций оптимизаций."
   ]
  },
  {
   "cell_type": "code",
   "execution_count": null,
   "metadata": {},
   "outputs": [],
   "source": []
  },
  {
   "cell_type": "markdown",
   "metadata": {
    "id": "J60X75jZl3VF"
   },
   "source": [
    "# **Задание 2. Adaboost (12 баллов)**"
   ]
  },
  {
   "cell_type": "markdown",
   "metadata": {
    "id": "KzCuExEhl9K4"
   },
   "source": [
    "Теперь мы можем написать наш Adaboost. В нем разрешается использовать DescionTreeClassifier(для них параметры можете выбрать сами). В sklearn можно взять веса для модели и настраивать их, главное не забудьте про их нормализацию, чтобы они не были слишком большими"
   ]
  },
  {
   "cell_type": "code",
   "execution_count": null,
   "metadata": {
    "id": "Hv5D3MUQl7GV"
   },
   "outputs": [],
   "source": [
    "class Adaboost():\n",
    "    def __init__(self, n_estimators=50, learning_rate=1.0, base_classifier=DecisionTreeClassifier()):\n",
    "\n",
    "        self.n_estimators = n_estimators # количество моделей в adaboost\n",
    "        self.learning_rate = learning_rate # скорость обучение\n",
    "        self.base_classifier = base_classifier # модель которую мы используем\n",
    "\n",
    "        self.alpha = [] # тут будут храниться значения alpha для каждой модели\n",
    "        self.classifiers = [] # тут будут храниться сами модели\n",
    "    \n",
    "    def train(self, X, y):\n",
    "        \n",
    "       # Задайте начальные веса\n",
    "\n",
    "       # Теперь вам нужно сделать цикл, который проходиться по указаному количеству моделей.\n",
    "       # Модели и alpha добавляйте в self.alpha и self.classifiers\n",
    "       # При обучении каждой модели в метод fit вам нужно передавать sample_weight=weights\n",
    "\n",
    "       # Весь алгоритм отлично описан в лекции\n",
    "    \n",
    "    def predict(self, X):\n",
    "        \n",
    "        n_samples = len(X)\n",
    "        y_pred = np.zeros(n_samples)\n",
    "\n",
    "        for alpha, classifier in zip(self.alpha, self.classifiers):\n",
    "            y_pred += alpha * classifier.predict(X)\n",
    "\n",
    "        return np.sign(y_pred)"
   ]
  },
  {
   "cell_type": "markdown",
   "metadata": {
    "id": "pH5UbJJBnHtv"
   },
   "source": [
    "Протестируйте как работает ваш алгоритм и оцените результат по метрике roc_auc. Она должна быть выше 0.9"
   ]
  },
  {
   "cell_type": "code",
   "execution_count": null,
   "metadata": {
    "id": "IJN9KIBeoUnj"
   },
   "outputs": [],
   "source": [
    "# Ваш код тут"
   ]
  },
  {
   "cell_type": "markdown",
   "metadata": {
    "id": "5n7gjZ8unXHV"
   },
   "source": [
    "# **Задание 3. Catboost (4 балла)**"
   ]
  },
  {
   "cell_type": "markdown",
   "metadata": {
    "id": "jOzRIeI3njep"
   },
   "source": [
    "Теперь мы можем попровать настоящего монстра среди классического ML - Catboost от яндекса. Его не нужно настраивать, хотя и можно(у него тоже есть GridSearch, но не из Sklearn). Оцените его результат по roc_auc. "
   ]
  },
  {
   "cell_type": "code",
   "execution_count": null,
   "metadata": {
    "id": "jzwc5X7rnS_B"
   },
   "outputs": [],
   "source": [
    "!pip install catboost"
   ]
  },
  {
   "cell_type": "code",
   "execution_count": null,
   "metadata": {
    "id": "45SV2-iHonAD"
   },
   "outputs": [],
   "source": [
    "# Ваш код тут"
   ]
  }
 ],
 "metadata": {
  "colab": {
   "authorship_tag": "ABX9TyN5SlfK0eFlQftMKyMexA31",
   "mount_file_id": "1Puss9rVH4PRRw0TwCi3UDT5u1rlGmQ-X",
   "provenance": []
  },
  "kernelspec": {
   "display_name": "Python 3 (ipykernel)",
   "language": "python",
   "name": "python3"
  },
  "language_info": {
   "codemirror_mode": {
    "name": "ipython",
    "version": 3
   },
   "file_extension": ".py",
   "mimetype": "text/x-python",
   "name": "python",
   "nbconvert_exporter": "python",
   "pygments_lexer": "ipython3",
   "version": "3.10.8"
  }
 },
 "nbformat": 4,
 "nbformat_minor": 4
}
