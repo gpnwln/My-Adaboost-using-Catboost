{
 "cells": [
  {
   "cell_type": "markdown",
   "metadata": {
    "id": "AAVbPtZzkr05"
   },
   "source": [
    "# Часть 1: Обзор метода градиентного бустинга\n",
    "\n",
    "Градиентный бустинг - это техника машинного обучения для задач регрессии и классификации, которая строит модель, используя ансамбль слабых моделей, обычно деревьев решений. Градиентный бустинг обучает деревья последовательно, каждое из которых пытается исправить ошибки предыдущего дерева.\n",
    "\n",
    "### Основные идеи градиентного бустинга: \n",
    "1. Ансамбль слабых моделей: градиентный бустинг комбинирует несколько простых моделей (деревьев решений) для создания более мощной модели.\n",
    "2. Последовательное обучение: вместо обучения моделей параллельно, градиентный бустинг обучает модели последовательно, позволяя каждой последующей модели улучшать предыдущую.\n",
    "3. Градиентный спуск: градиентный бустинг использует градиентный спуск для оптимизации потерь.\n",
    "\n",
    "### Преимущества градиентного бустинга:\n",
    "1. Высокая производительность: градиентный бустинг является одним из самых мощных алгоритмов машинного обучения и может достигать очень высокой точности.\n",
    "2. Гибкость: градиентный бустинг может быть адаптирован для различных функций потерь и различных типов данных.\n",
    "3. Робустность: градиентный бустинг устойчив к выбросам и несбалансированным данным.\n"
   ]
  },
  {
   "cell_type": "markdown",
   "metadata": {
    "id": "TLo5pa3Ukr03"
   },
   "source": [
    "# Загрузка данных"
   ]
  },
  {
   "cell_type": "code",
   "execution_count": null,
   "metadata": {
    "colab": {
     "base_uri": "https://localhost:8080/"
    },
    "id": "_VLAbRL3kUzj",
    "outputId": "e416ddbc-db08-4fd0-d72f-982d9a5fabac"
   },
   "outputs": [
    {
     "name": "stdout",
     "output_type": "stream",
     "text": [
      "Looking in indexes: https://pypi.org/simple, https://us-python.pkg.dev/colab-wheels/public/simple/\n",
      "Requirement already satisfied: scikit-learn==1.1.3 in /usr/local/lib/python3.9/dist-packages (1.1.3)\n",
      "Requirement already satisfied: threadpoolctl>=2.0.0 in /usr/local/lib/python3.9/dist-packages (from scikit-learn==1.1.3) (3.1.0)\n",
      "Requirement already satisfied: scipy>=1.3.2 in /usr/local/lib/python3.9/dist-packages (from scikit-learn==1.1.3) (1.10.1)\n",
      "Requirement already satisfied: numpy>=1.17.3 in /usr/local/lib/python3.9/dist-packages (from scikit-learn==1.1.3) (1.22.4)\n",
      "Requirement already satisfied: joblib>=1.0.0 in /usr/local/lib/python3.9/dist-packages (from scikit-learn==1.1.3) (1.2.0)\n"
     ]
    }
   ],
   "source": [
    "# Пдгружаем более старую версию sklearn, так как в новой boston_dataset уже нельзя скачать\n",
    "!pip install scikit-learn==1.1.3"
   ]
  },
  {
   "cell_type": "code",
   "execution_count": null,
   "metadata": {
    "id": "J0oFFVGOkr04"
   },
   "outputs": [],
   "source": [
    "import pandas as pd\n",
    "import numpy as np\n",
    "import matplotlib.pyplot as plt\n",
    "import seaborn as sns\n",
    "from sklearn.model_selection import train_test_split\n",
    "from sklearn.metrics import mean_squared_error, accuracy_score\n",
    "import warnings\n",
    "warnings.filterwarnings(\"ignore\")"
   ]
  },
  {
   "cell_type": "markdown",
   "metadata": {
    "id": "-WmHwrOJkr04"
   },
   "source": [
    "# Градиентный бустинг в scikit-learn"
   ]
  },
  {
   "cell_type": "code",
   "execution_count": null,
   "metadata": {
    "colab": {
     "base_uri": "https://localhost:8080/"
    },
    "id": "Q1UT6usrkr05",
    "outputId": "8d5f65bc-2486-44e7-dac9-430fa787ab11"
   },
   "outputs": [
    {
     "name": "stdout",
     "output_type": "stream",
     "text": [
      "MSE: 14.52681979717445\n"
     ]
    }
   ],
   "source": [
    "# Импортируем необходимые библиотеки\n",
    "from sklearn.datasets import load_boston\n",
    "from sklearn.ensemble import GradientBoostingRegressor\n",
    "from sklearn.model_selection import train_test_split\n",
    "from sklearn.metrics import mean_squared_error\n",
    "\n",
    "# Загружаем данные\n",
    "boston = load_boston()\n",
    "\n",
    "# Разделяем данные на обучающую и тестовую выборки\n",
    "X_train, X_test, y_train, y_test = train_test_split(boston.data, boston.target, test_size=0.2, random_state=42)\n",
    "\n",
    "# Создаем объект градиентного бустинга\n",
    "gb = GradientBoostingRegressor(n_estimators=100, learning_rate=0.1, max_depth=1, random_state=42)\n",
    "\n",
    "# Обучаем модель на обучающей выборке\n",
    "gb.fit(X_train, y_train)\n",
    "\n",
    "# Предсказываем значения на тестовой выборке\n",
    "y_pred = gb.predict(X_test)\n",
    "\n",
    "# Оцениваем качество модели на тестовой выборке с помощью MSE\n",
    "mse = mean_squared_error(y_test, y_pred)\n",
    "print(\"MSE:\", mse)"
   ]
  },
  {
   "cell_type": "markdown",
   "metadata": {
    "id": "d4SnTo4Bkr06"
   },
   "source": [
    "# Часть 2: Обзор библиотек CatBoost vs. Light GBM vs. XGBoost. В чем разница и как ими пользоваться."
   ]
  },
  {
   "cell_type": "code",
   "execution_count": null,
   "metadata": {
    "id": "djQh4twrkr06",
    "outputId": "7bbfb34c-2938-48cc-f0ec-d0d2b7753491"
   },
   "outputs": [
    {
     "name": "stdout",
     "output_type": "stream",
     "text": [
      "LightGBM MSE: 0.05120338345937751\n",
      "XGBoost MSE: 0.048173500922962305\n"
     ]
    },
    {
     "data": {
      "image/png": "[encoded data removed]",
      "text/plain": [
       "<Figure size 720x432 with 1 Axes>"
      ]
     },
     "metadata": {
      "needs_background": "light"
     },
     "output_type": "display_data"
    }
   ],
   "source": [
    "# Установка библиотек\n",
    "# !pip install catboost lightgbm xgboost\n",
    "\n",
    "# Импорт библиотек\n",
    "from catboost import CatBoostRegressor\n",
    "from lightgbm import LGBMRegressor\n",
    "from xgboost import XGBRegressor\n",
    "\n",
    "# CatBoost:\n",
    "# - Разработан командой Яндекса\n",
    "# - Особенно подходит для обработки категориальных признаков без предварительной обработки\n",
    "# - Отличается устойчивостью к переобучению\n",
    "# - Предоставляет инструменты для визуализации обучения и предсказаний\n",
    "# - Время обучения может быть дольше, чем у других алгоритмов, но предлагает высокую точность\n",
    "cat_model = CatBoostRegressor(verbose=0, random_seed=42)\n",
    "cat_model.fit(X_train, y_train)\n",
    "cat_y_pred = cat_model.predict(X_test)\n",
    "cat_mse = mean_squared_error(y_test, cat_y_pred)\n",
    "\n",
    "# LightGBM:\n",
    "# - Разработан Microsoft\n",
    "# - Использует технику GOSS (Gradient-based One-Side Sampling) и EFB (Exclusive Feature Bundling) для ускорения обучения и снижения потребления памяти\n",
    "# - Отлично подходит для работы с большими наборами данных и может обрабатывать наборы данных с более чем 1 миллионом записей\n",
    "# - Легковесный, быстрый и эффективный по памяти\n",
    "lgbm_model = LGBMRegressor(random_state=42)\n",
    "lgbm_model.fit(X_train, y_train)\n",
    "lgbm_y_pred = lgbm_model.predict(X_test)\n",
    "lgbm_mse = mean_squared_error(y_test, lgbm_y_pred)\n",
    "\n",
    "# XGBoost:\n",
    "# - Изначально разработан в рамках проекта DMLC (Distributed Machine Learning Community)\n",
    "# - Подходит для задач классификации и регрессии\n",
    "# - Очень популярен из-за своей эффективности и точности\n",
    "# - Предоставляет встроенные методы регуляризации, уменьшая вероятность переобучения\n",
    "# - Отличается высокой производительностью и параллельным обучением\n",
    "xgb_model = XGBRegressor(random_state=42)\n",
    "xgb_model.fit(X_train, y_train)\n",
    "xgb_y_pred = xgb_model.predict(X_test)\n",
    "xgb_mse = mean_squared_error(y_test, xgb_y_pred)\n",
    "\n",
    "print(f'LightGBM MSE: {lgbm_mse}')\n",
    "print(f'XGBoost MSE: {xgb_mse}')\n",
    "\n",
    "# Визуализация ошибок\n",
    "plt.figure(figsize=(10, 6))\n",
    "plt.bar(['CatBoost', 'LightGBM', 'XGBoost'], [cat_mse, lgbm_mse, xgb_mse])\n",
    "plt.title('Сравнение MSE для разных моделей градиентного бустинга')\n",
    "plt.ylabel('MSE')\n",
    "plt.show()\n"
   ]
  },
  {
   "cell_type": "markdown",
   "metadata": {
    "id": "X83Wa7Fpkr06"
   },
   "source": [
    "# Часть 3: Как выбрать правильный инструмент."
   ]
  },
  {
   "cell_type": "markdown",
   "metadata": {
    "id": "SLwkKR6zkr06"
   },
   "source": [
    "В зависимости от особенностей данных и задачи, разные алгоритмы градиентного бустинга могут быть наиболее подходящими.\n",
    "Давайте рассмотрим некоторые основные сценарии:\n",
    "\n",
    "1. Если ваши данные содержат большое количество категориальных признаков, то CatBoost может быть лучшим выбором,\n",
    "   поскольку он разработан специально для обработки категориальных признаков без предварительной обработки.\n",
    "\n",
    "2. Если у вас большой объем данных или ограничения по памяти, LightGBM может быть лучшим выбором,\n",
    "   благодаря своим техникам ускорения обучения и снижения потребления памяти.\n",
    "\n",
    "3. Если вы ищете хорошее сочетание производительности и точности, XGBoost может быть подходящим выбором.\n",
    "   XGBoost доказал свою эффективность и популярность среди специалистов по данным и ученых благодаря\n",
    "   своим встроенным методам регуляризации и параллельному обучению."
   ]
  },
  {
   "cell_type": "code",
   "execution_count": null,
   "metadata": {
    "id": "eJiAr_Vhkr06",
    "outputId": "339e32ff-a7d7-4f4b-8fa8-f78507b82c15"
   },
   "outputs": [
    {
     "name": "stdout",
     "output_type": "stream",
     "text": [
      "CatBoost R2 score (categorical features): 0.9882013817062888\n",
      "LightGBM R2 score (categorical features): 0.9642119639613254\n",
      "XGBoost R2 score (categorical features): 0.9311254883217411\n"
     ]
    }
   ],
   "source": [
    "import pandas as pd\n",
    "from sklearn.datasets import make_classification, make_regression\n",
    "from sklearn.preprocessing import OrdinalEncoder\n",
    "from sklearn.model_selection import train_test_split\n",
    "from sklearn.metrics import r2_score, accuracy_score\n",
    "from lightgbm import LGBMClassifier, LGBMRegressor\n",
    "from xgboost import XGBClassifier, XGBRegressor\n",
    "from catboost import CatBoostRegressor, CatBoostClassifier\n",
    "\n",
    "# Пример 1: CatBoost, LightGBM, XGBoost для категориальных признаков (CatBoost)\n",
    "X, y = make_regression(n_samples=1000, n_features=20, n_informative=5, random_state=42)\n",
    "X_train, X_test, y_train, y_test = train_test_split(X, y, test_size=0.2, random_state=42)\n",
    "\n",
    "cat_model = CatBoostRegressor(verbose=0, random_seed=42)\n",
    "cat_model.fit(X_train, y_train)\n",
    "cat_y_pred = cat_model.predict(X_test)\n",
    "cat_r2 = r2_score(y_test, cat_y_pred)\n",
    "\n",
    "lgbm_model = LGBMRegressor(random_state=42, n_jobs=-1)\n",
    "lgbm_model.fit(X_train, y_train)\n",
    "lgbm_y_pred = lgbm_model.predict(X_test)\n",
    "lgbm_r2 = r2_score(y_test, lgbm_y_pred)\n",
    "\n",
    "xgb_model = XGBRegressor(random_state=42, n_jobs=-1)\n",
    "xgb_model.fit(X_train, y_train)\n",
    "xgb_y_pred = xgb_model.predict(X_test)\n",
    "xgb_r2 = r2_score(y_test, xgb_y_pred)\n",
    "\n",
    "print(f'CatBoost R2 score (categorical features): {cat_r2}')\n",
    "print(f'LightGBM R2 score (categorical features): {lgbm_r2}')\n",
    "print(f'XGBoost R2 score (categorical features): {xgb_r2}')"
   ]
  },
  {
   "cell_type": "code",
   "execution_count": null,
   "metadata": {
    "id": "ILm6aVDokr07",
    "outputId": "d6d16d46-8492-48e4-a2e5-e9b3029bb967"
   },
   "outputs": [
    {
     "name": "stderr",
     "output_type": "stream",
     "text": [
      "c:\\Users\\User\\anaconda3\\lib\\site-packages\\xgboost\\sklearn.py:1224: UserWarning: The use of label encoder in XGBClassifier is deprecated and will be removed in a future release. To remove this warning, do the following: 1) Pass option use_label_encoder=False when constructing XGBClassifier object; and 2) Encode your labels (y) as integers starting with 0, i.e. 0, 1, 2, ..., [num_class - 1].\n",
      "  warnings.warn(label_encoder_deprecation_msg, UserWarning)\n"
     ]
    },
    {
     "name": "stdout",
     "output_type": "stream",
     "text": [
      "[14:36:08] WARNING: C:/Users/Administrator/workspace/xgboost-win64_release_1.5.0/src/learner.cc:1115: Starting in XGBoost 1.3.0, the default evaluation metric used with the objective 'binary:logistic' was changed from 'error' to 'logloss'. Explicitly set eval_metric if you'd like to restore the old behavior.\n",
      "CatBoost accuracy (big data): 0.98115\n",
      "LightGBM accuracy (big data): 0.982\n",
      "XGBoost accuracy (big data): 0.96615\n"
     ]
    }
   ],
   "source": [
    "# Пример 2: CatBoost, LightGBM, XGBoost для больших данных (LightGBM)\n",
    "X_big, y_big = make_classification(n_samples=100000, n_features=50, n_informative=10, n_classes=2, random_state=42)\n",
    "X_train_big, X_test_big, y_train_big, y_test_big = train_test_split(X_big, y_big, test_size=0.2, random_state=42)\n",
    "\n",
    "cat_model_big = CatBoostClassifier(verbose=0, random_seed=42, learning_rate=0.1, depth=4)\n",
    "cat_model_big.fit(X_train_big, y_train_big)\n",
    "cat_y_pred_big = cat_model_big.predict(X_test_big)\n",
    "cat_accuracy_big = accuracy_score(y_test_big, cat_y_pred_big)\n",
    "\n",
    "lgbm_model_big = LGBMClassifier(random_state=42, n_jobs=-1, num_leaves=60, n_estimators=200, max_depth=9)\n",
    "lgbm_model_big.fit(X_train_big, y_train_big)\n",
    "lgbm_y_pred_big = lgbm_model_big.predict(X_test_big)\n",
    "lgbm_accuracy_big = accuracy_score(y_test_big, lgbm_y_pred_big)\n",
    "\n",
    "xgb_model_big = XGBClassifier(random_state=42, n_jobs=-1, learning_rate=0.1, max_depth=4)\n",
    "xgb_model_big.fit(X_train_big, y_train_big)\n",
    "xgb_y_pred_big = xgb_model_big.predict(X_test_big)\n",
    "xgb_accuracy_big = accuracy_score(y_test_big, xgb_y_pred_big)\n",
    "\n",
    "print(f'CatBoost accuracy (big data): {cat_accuracy_big}')\n",
    "print(f'LightGBM accuracy (big data): {lgbm_accuracy_big}')\n",
    "print(f'XGBoost accuracy (big data): {xgb_accuracy_big}')"
   ]
  },
  {
   "cell_type": "code",
   "execution_count": null,
   "metadata": {
    "id": "Xg931Xhdkr07",
    "outputId": "cfdcb714-088d-4db6-eba7-4645636bf0fc"
   },
   "outputs": [
    {
     "name": "stderr",
     "output_type": "stream",
     "text": [
      "c:\\Users\\User\\anaconda3\\lib\\site-packages\\xgboost\\sklearn.py:1224: UserWarning: The use of label encoder in XGBClassifier is deprecated and will be removed in a future release. To remove this warning, do the following: 1) Pass option use_label_encoder=False when constructing XGBClassifier object; and 2) Encode your labels (y) as integers starting with 0, i.e. 0, 1, 2, ..., [num_class - 1].\n",
      "  warnings.warn(label_encoder_deprecation_msg, UserWarning)\n"
     ]
    },
    {
     "name": "stdout",
     "output_type": "stream",
     "text": [
      "[14:39:35] WARNING: C:/Users/Administrator/workspace/xgboost-win64_release_1.5.0/src/learner.cc:1115: Starting in XGBoost 1.3.0, the default evaluation metric used with the objective 'binary:logistic' was changed from 'error' to 'logloss'. Explicitly set eval_metric if you'd like to restore the old behavior.\n",
      "CatBoost accuracy (regularization): 0.945\n",
      "LightGBM accuracy (regularization): 0.93\n",
      "XGBoost accuracy (regularization): 0.955\n"
     ]
    }
   ],
   "source": [
    "# Пример 3: CatBoost, LightGBM, XGBoost с оптимальными параметрами для регуляризации (XGBoost)\n",
    "X, y = make_classification(n_samples=1000, n_features=20, n_informative=5, n_classes=2, random_state=42)\n",
    "X_train, X_test, y_train, y_test = train_test_split(X, y, test_size=0.2, random_state=42)\n",
    "\n",
    "cat_model_reg = CatBoostClassifier(verbose=0, random_seed=42, l2_leaf_reg=20)\n",
    "cat_model_reg.fit(X_train, y_train)\n",
    "cat_y_pred_reg = cat_model_reg.predict(X_test)\n",
    "cat_accuracy_reg = accuracy_score(y_test, cat_y_pred_reg)\n",
    "\n",
    "lgbm_model_reg = LGBMClassifier(random_state=42, n_jobs=-1, reg_alpha=5, reg_lambda=5)\n",
    "lgbm_model_reg.fit(X_train, y_train)\n",
    "lgbm_y_pred_reg = lgbm_model_reg.predict(X_test)\n",
    "lgbm_accuracy_reg = accuracy_score(y_test, lgbm_y_pred_reg)\n",
    "\n",
    "xgb_model_reg = XGBClassifier(random_state=42, n_jobs=-1, reg_alpha=0.1, reg_lambda=0.1, max_depth=9, learning_rate=0.1, n_estimators=150)\n",
    "xgb_model_reg.fit(X_train, y_train)\n",
    "xgb_y_pred_reg = xgb_model_reg.predict(X_test)\n",
    "xgb_accuracy_reg = accuracy_score(y_test, xgb_y_pred_reg)\n",
    "\n",
    "print(f'CatBoost accuracy (regularization): {cat_accuracy_reg}')\n",
    "print(f'LightGBM accuracy (regularization): {lgbm_accuracy_reg}')\n",
    "print(f'XGBoost accuracy (regularization): {xgb_accuracy_reg}')"
   ]
  },
  {
   "cell_type": "markdown",
   "metadata": {
    "id": "JETgACzkkr07"
   },
   "source": [
    "В заключение, выбор правильного инструмента для задачи градиентного бустинга зависит от множества факторов, и эффективность каждого алгоритма может варьироваться в зависимости от особенностей данных и задачи. Важно провести эксперименты, сравнивая разные алгоритмы и их параметры на вашем наборе данных, чтобы определить, какой из них наиболее подходит для конкретной ситуации."
   ]
  },
  {
   "cell_type": "markdown",
   "metadata": {
    "id": "DkPPx0Iekr07"
   },
   "source": [
    "# Часть 4: Бонус Optuna + GBM = Супер точная модель \n",
    "Optuna - это библиотека оптимизации гиперпараметров, основанная на байесовской оптимизации. Она позволяет оптимизировать гиперпараметры алгоритмов градиентного бустинга быстрее и эффективнее, чем GridSearch. Ниже приведены примеры использования Optuna для оптимизации гиперпараметров CatBoost, LightGBM и XGBoost:"
   ]
  },
  {
   "cell_type": "code",
   "execution_count": null,
   "metadata": {
    "colab": {
     "referenced_widgets": [
      "c5823465429c4356992d66d29b5ac185"
     ]
    },
    "id": "WatvHC4Pkr07",
    "outputId": "19876a45-b33d-4020-a21b-41a8a414787f"
   },
   "outputs": [
    {
     "name": "stderr",
     "output_type": "stream",
     "text": [
      "\u001b[32m[I 2023-03-28 15:09:48,365]\u001b[0m A new study created in memory with name: no-name-8b7efd2c-4c5c-4ce8-9b33-f510da6d2f33\u001b[0m\n"
     ]
    },
    {
     "data": {
      "application/vnd.jupyter.widget-view+json": {
       "model_id": "c5823465429c4356992d66d29b5ac185",
       "version_major": 2,
       "version_minor": 0
      },
      "text/plain": [
       "  0%|          | 0/100 [00:00<?, ?it/s]"
      ]
     },
     "metadata": {},
     "output_type": "display_data"
    },
    {
     "name": "stdout",
     "output_type": "stream",
     "text": [
      "\u001b[32m[I 2023-03-28 15:09:48,640]\u001b[0m Trial 0 finished with value: 0.972027972027972 and parameters: {'min_child_samples': 78, 'max_depth': 6}. Best is trial 0 with value: 0.972027972027972.\u001b[0m\n",
      "\u001b[32m[I 2023-03-28 15:09:48,878]\u001b[0m Trial 1 finished with value: 0.986013986013986 and parameters: {'min_child_samples': 12, 'max_depth': 5}. Best is trial 1 with value: 0.986013986013986.\u001b[0m\n",
      "\u001b[32m[I 2023-03-28 15:09:49,153]\u001b[0m Trial 2 finished with value: 0.993006993006993 and parameters: {'min_child_samples': 90, 'max_depth': 8}. Best is trial 2 with value: 0.993006993006993.\u001b[0m\n",
      "\u001b[32m[I 2023-03-28 15:09:49,481]\u001b[0m Trial 3 finished with value: 0.993006993006993 and parameters: {'min_child_samples': 49, 'max_depth': 6}. Best is trial 2 with value: 0.993006993006993.\u001b[0m\n",
      "\u001b[32m[I 2023-03-28 15:09:49,734]\u001b[0m Trial 4 finished with value: 0.986013986013986 and parameters: {'min_child_samples': 41, 'max_depth': 3}. Best is trial 2 with value: 0.993006993006993.\u001b[0m\n",
      "\u001b[32m[I 2023-03-28 15:09:49,941]\u001b[0m Trial 5 finished with value: 1.0 and parameters: {'min_child_samples': 40, 'max_depth': 9}. Best is trial 5 with value: 1.0.\u001b[0m\n",
      "\u001b[32m[I 2023-03-28 15:09:50,129]\u001b[0m Trial 6 finished with value: 0.986013986013986 and parameters: {'min_child_samples': 100, 'max_depth': 12}. Best is trial 5 with value: 1.0.\u001b[0m\n",
      "\u001b[32m[I 2023-03-28 15:09:50,333]\u001b[0m Trial 7 finished with value: 0.993006993006993 and parameters: {'min_child_samples': 90, 'max_depth': 10}. Best is trial 5 with value: 1.0.\u001b[0m\n",
      "\u001b[32m[I 2023-03-28 15:09:50,589]\u001b[0m Trial 8 finished with value: 0.986013986013986 and parameters: {'min_child_samples': 9, 'max_depth': 12}. Best is trial 5 with value: 1.0.\u001b[0m\n",
      "\u001b[32m[I 2023-03-28 15:09:50,853]\u001b[0m Trial 9 finished with value: 0.9790209790209791 and parameters: {'min_child_samples': 19, 'max_depth': 14}. Best is trial 5 with value: 1.0.\u001b[0m\n",
      "\u001b[32m[I 2023-03-28 15:09:51,147]\u001b[0m Trial 10 finished with value: 0.986013986013986 and parameters: {'min_child_samples': 65, 'max_depth': 9}. Best is trial 5 with value: 1.0.\u001b[0m\n",
      "\u001b[32m[I 2023-03-28 15:09:51,486]\u001b[0m Trial 11 finished with value: 0.993006993006993 and parameters: {'min_child_samples': 35, 'max_depth': 9}. Best is trial 5 with value: 1.0.\u001b[0m\n",
      "\u001b[32m[I 2023-03-28 15:09:51,618]\u001b[0m Trial 12 finished with value: 0.9790209790209791 and parameters: {'min_child_samples': 66, 'max_depth': 8}. Best is trial 5 with value: 1.0.\u001b[0m\n",
      "\u001b[32m[I 2023-03-28 15:09:51,889]\u001b[0m Trial 13 finished with value: 0.986013986013986 and parameters: {'min_child_samples': 31, 'max_depth': 11}. Best is trial 5 with value: 1.0.\u001b[0m\n",
      "\u001b[32m[I 2023-03-28 15:09:52,047]\u001b[0m Trial 14 finished with value: 0.986013986013986 and parameters: {'min_child_samples': 61, 'max_depth': 7}. Best is trial 5 with value: 1.0.\u001b[0m\n",
      "\u001b[32m[I 2023-03-28 15:09:52,315]\u001b[0m Trial 15 finished with value: 0.993006993006993 and parameters: {'min_child_samples': 82, 'max_depth': 15}. Best is trial 5 with value: 1.0.\u001b[0m\n",
      "\u001b[32m[I 2023-03-28 15:09:52,558]\u001b[0m Trial 16 finished with value: 0.993006993006993 and parameters: {'min_child_samples': 50, 'max_depth': 4}. Best is trial 5 with value: 1.0.\u001b[0m\n",
      "\u001b[32m[I 2023-03-28 15:09:52,756]\u001b[0m Trial 17 finished with value: 0.9790209790209791 and parameters: {'min_child_samples': 50, 'max_depth': 3}. Best is trial 5 with value: 1.0.\u001b[0m\n",
      "\u001b[32m[I 2023-03-28 15:09:53,029]\u001b[0m Trial 18 finished with value: 0.993006993006993 and parameters: {'min_child_samples': 21, 'max_depth': 8}. Best is trial 5 with value: 1.0.\u001b[0m\n",
      "\u001b[32m[I 2023-03-28 15:09:53,312]\u001b[0m Trial 19 finished with value: 0.986013986013986 and parameters: {'min_child_samples': 27, 'max_depth': 10}. Best is trial 5 with value: 1.0.\u001b[0m\n",
      "\u001b[32m[I 2023-03-28 15:09:53,546]\u001b[0m Trial 20 finished with value: 1.0 and parameters: {'min_child_samples': 43, 'max_depth': 4}. Best is trial 5 with value: 1.0.\u001b[0m\n",
      "\u001b[32m[I 2023-03-28 15:09:53,752]\u001b[0m Trial 21 finished with value: 0.993006993006993 and parameters: {'min_child_samples': 24, 'max_depth': 5}. Best is trial 5 with value: 1.0.\u001b[0m\n",
      "\u001b[32m[I 2023-03-28 15:09:53,966]\u001b[0m Trial 22 finished with value: 0.986013986013986 and parameters: {'min_child_samples': 40, 'max_depth': 4}. Best is trial 5 with value: 1.0.\u001b[0m\n",
      "\u001b[32m[I 2023-03-28 15:09:54,213]\u001b[0m Trial 23 finished with value: 0.993006993006993 and parameters: {'min_child_samples': 39, 'max_depth': 12}. Best is trial 5 with value: 1.0.\u001b[0m\n",
      "\u001b[32m[I 2023-03-28 15:09:54,445]\u001b[0m Trial 24 finished with value: 0.986013986013986 and parameters: {'min_child_samples': 33, 'max_depth': 9}. Best is trial 5 with value: 1.0.\u001b[0m\n",
      "\u001b[32m[I 2023-03-28 15:09:54,790]\u001b[0m Trial 25 finished with value: 0.986013986013986 and parameters: {'min_child_samples': 19, 'max_depth': 7}. Best is trial 5 with value: 1.0.\u001b[0m\n",
      "\u001b[32m[I 2023-03-28 15:09:55,145]\u001b[0m Trial 26 finished with value: 0.993006993006993 and parameters: {'min_child_samples': 56, 'max_depth': 5}. Best is trial 5 with value: 1.0.\u001b[0m\n",
      "\u001b[32m[I 2023-03-28 15:09:55,490]\u001b[0m Trial 27 finished with value: 1.0 and parameters: {'min_child_samples': 44, 'max_depth': 5}. Best is trial 5 with value: 1.0.\u001b[0m\n",
      "\u001b[32m[I 2023-03-28 15:09:55,668]\u001b[0m Trial 28 finished with value: 0.986013986013986 and parameters: {'min_child_samples': 57, 'max_depth': 4}. Best is trial 5 with value: 1.0.\u001b[0m\n",
      "\u001b[32m[I 2023-03-28 15:09:55,980]\u001b[0m Trial 29 finished with value: 1.0 and parameters: {'min_child_samples': 44, 'max_depth': 6}. Best is trial 5 with value: 1.0.\u001b[0m\n",
      "\u001b[32m[I 2023-03-28 15:09:56,179]\u001b[0m Trial 30 finished with value: 0.986013986013986 and parameters: {'min_child_samples': 69, 'max_depth': 6}. Best is trial 5 with value: 1.0.\u001b[0m\n",
      "\u001b[32m[I 2023-03-28 15:09:56,520]\u001b[0m Trial 31 finished with value: 1.0 and parameters: {'min_child_samples': 45, 'max_depth': 7}. Best is trial 5 with value: 1.0.\u001b[0m\n",
      "\u001b[32m[I 2023-03-28 15:09:56,849]\u001b[0m Trial 32 finished with value: 1.0 and parameters: {'min_child_samples': 47, 'max_depth': 7}. Best is trial 5 with value: 1.0.\u001b[0m\n",
      "\u001b[32m[I 2023-03-28 15:09:57,158]\u001b[0m Trial 33 finished with value: 0.993006993006993 and parameters: {'min_child_samples': 56, 'max_depth': 6}. Best is trial 5 with value: 1.0.\u001b[0m\n",
      "\u001b[32m[I 2023-03-28 15:09:57,462]\u001b[0m Trial 34 finished with value: 1.0 and parameters: {'min_child_samples': 45, 'max_depth': 6}. Best is trial 5 with value: 1.0.\u001b[0m\n",
      "\u001b[32m[I 2023-03-28 15:09:57,682]\u001b[0m Trial 35 finished with value: 0.9790209790209791 and parameters: {'min_child_samples': 38, 'max_depth': 3}. Best is trial 5 with value: 1.0.\u001b[0m\n",
      "\u001b[32m[I 2023-03-28 15:09:57,869]\u001b[0m Trial 36 finished with value: 0.986013986013986 and parameters: {'min_child_samples': 31, 'max_depth': 7}. Best is trial 5 with value: 1.0.\u001b[0m\n",
      "\u001b[32m[I 2023-03-28 15:09:58,223]\u001b[0m Trial 37 finished with value: 0.9790209790209791 and parameters: {'min_child_samples': 72, 'max_depth': 6}. Best is trial 5 with value: 1.0.\u001b[0m\n",
      "\u001b[32m[I 2023-03-28 15:09:58,565]\u001b[0m Trial 38 finished with value: 0.986013986013986 and parameters: {'min_child_samples': 48, 'max_depth': 8}. Best is trial 5 with value: 1.0.\u001b[0m\n",
      "\u001b[32m[I 2023-03-28 15:09:58,773]\u001b[0m Trial 39 finished with value: 0.993006993006993 and parameters: {'min_child_samples': 54, 'max_depth': 10}. Best is trial 5 with value: 1.0.\u001b[0m\n",
      "\u001b[32m[I 2023-03-28 15:09:58,933]\u001b[0m Trial 40 finished with value: 0.972027972027972 and parameters: {'min_child_samples': 13, 'max_depth': 4}. Best is trial 5 with value: 1.0.\u001b[0m\n",
      "\u001b[32m[I 2023-03-28 15:09:59,251]\u001b[0m Trial 41 finished with value: 1.0 and parameters: {'min_child_samples': 44, 'max_depth': 7}. Best is trial 5 with value: 1.0.\u001b[0m\n",
      "\u001b[32m[I 2023-03-28 15:09:59,605]\u001b[0m Trial 42 finished with value: 1.0 and parameters: {'min_child_samples': 44, 'max_depth': 5}. Best is trial 5 with value: 1.0.\u001b[0m\n",
      "\u001b[32m[I 2023-03-28 15:10:00,122]\u001b[0m Trial 43 finished with value: 0.986013986013986 and parameters: {'min_child_samples': 35, 'max_depth': 8}. Best is trial 5 with value: 1.0.\u001b[0m\n",
      "\u001b[32m[I 2023-03-28 15:10:00,275]\u001b[0m Trial 44 finished with value: 0.986013986013986 and parameters: {'min_child_samples': 61, 'max_depth': 5}. Best is trial 5 with value: 1.0.\u001b[0m\n",
      "\u001b[32m[I 2023-03-28 15:10:00,576]\u001b[0m Trial 45 finished with value: 1.0 and parameters: {'min_child_samples': 42, 'max_depth': 3}. Best is trial 5 with value: 1.0.\u001b[0m\n",
      "\u001b[32m[I 2023-03-28 15:10:00,729]\u001b[0m Trial 46 finished with value: 0.9790209790209791 and parameters: {'min_child_samples': 29, 'max_depth': 3}. Best is trial 5 with value: 1.0.\u001b[0m\n",
      "\u001b[32m[I 2023-03-28 15:10:01,017]\u001b[0m Trial 47 finished with value: 1.0 and parameters: {'min_child_samples': 37, 'max_depth': 5}. Best is trial 5 with value: 1.0.\u001b[0m\n",
      "\u001b[32m[I 2023-03-28 15:10:01,320]\u001b[0m Trial 48 finished with value: 0.993006993006993 and parameters: {'min_child_samples': 37, 'max_depth': 3}. Best is trial 5 with value: 1.0.\u001b[0m\n",
      "\u001b[32m[I 2023-03-28 15:10:01,642]\u001b[0m Trial 49 finished with value: 1.0 and parameters: {'min_child_samples': 48, 'max_depth': 6}. Best is trial 5 with value: 1.0.\u001b[0m\n",
      "\u001b[32m[I 2023-03-28 15:10:01,976]\u001b[0m Trial 50 finished with value: 1.0 and parameters: {'min_child_samples': 51, 'max_depth': 7}. Best is trial 5 with value: 1.0.\u001b[0m\n",
      "\u001b[32m[I 2023-03-28 15:10:02,312]\u001b[0m Trial 51 finished with value: 0.993006993006993 and parameters: {'min_child_samples': 51, 'max_depth': 6}. Best is trial 5 with value: 1.0.\u001b[0m\n",
      "\u001b[32m[I 2023-03-28 15:10:02,642]\u001b[0m Trial 52 finished with value: 0.993006993006993 and parameters: {'min_child_samples': 43, 'max_depth': 5}. Best is trial 5 with value: 1.0.\u001b[0m\n",
      "\u001b[32m[I 2023-03-28 15:10:02,840]\u001b[0m Trial 53 finished with value: 0.986013986013986 and parameters: {'min_child_samples': 59, 'max_depth': 11}. Best is trial 5 with value: 1.0.\u001b[0m\n",
      "\u001b[32m[I 2023-03-28 15:10:03,140]\u001b[0m Trial 54 finished with value: 0.993006993006993 and parameters: {'min_child_samples': 47, 'max_depth': 4}. Best is trial 5 with value: 1.0.\u001b[0m\n",
      "\u001b[32m[I 2023-03-28 15:10:03,417]\u001b[0m Trial 55 finished with value: 0.986013986013986 and parameters: {'min_child_samples': 53, 'max_depth': 7}. Best is trial 5 with value: 1.0.\u001b[0m\n",
      "\u001b[32m[I 2023-03-28 15:10:03,738]\u001b[0m Trial 56 finished with value: 1.0 and parameters: {'min_child_samples': 41, 'max_depth': 4}. Best is trial 5 with value: 1.0.\u001b[0m\n",
      "\u001b[32m[I 2023-03-28 15:10:04,193]\u001b[0m Trial 57 finished with value: 1.0 and parameters: {'min_child_samples': 46, 'max_depth': 7}. Best is trial 5 with value: 1.0.\u001b[0m\n",
      "\u001b[32m[I 2023-03-28 15:10:04,467]\u001b[0m Trial 58 finished with value: 0.986013986013986 and parameters: {'min_child_samples': 63, 'max_depth': 8}. Best is trial 5 with value: 1.0.\u001b[0m\n",
      "\u001b[32m[I 2023-03-28 15:10:04,903]\u001b[0m Trial 59 finished with value: 1.0 and parameters: {'min_child_samples': 46, 'max_depth': 7}. Best is trial 5 with value: 1.0.\u001b[0m\n",
      "\u001b[32m[I 2023-03-28 15:10:05,266]\u001b[0m Trial 60 finished with value: 0.993006993006993 and parameters: {'min_child_samples': 51, 'max_depth': 6}. Best is trial 5 with value: 1.0.\u001b[0m\n",
      "\u001b[32m[I 2023-03-28 15:10:05,623]\u001b[0m Trial 61 finished with value: 0.993006993006993 and parameters: {'min_child_samples': 36, 'max_depth': 5}. Best is trial 5 with value: 1.0.\u001b[0m\n",
      "\u001b[32m[I 2023-03-28 15:10:05,915]\u001b[0m Trial 62 finished with value: 1.0 and parameters: {'min_child_samples': 42, 'max_depth': 5}. Best is trial 5 with value: 1.0.\u001b[0m\n",
      "\u001b[32m[I 2023-03-28 15:10:06,278]\u001b[0m Trial 63 finished with value: 0.993006993006993 and parameters: {'min_child_samples': 48, 'max_depth': 7}. Best is trial 5 with value: 1.0.\u001b[0m\n",
      "\u001b[32m[I 2023-03-28 15:10:06,568]\u001b[0m Trial 64 finished with value: 0.993006993006993 and parameters: {'min_child_samples': 34, 'max_depth': 5}. Best is trial 5 with value: 1.0.\u001b[0m\n",
      "\u001b[32m[I 2023-03-28 15:10:06,780]\u001b[0m Trial 65 finished with value: 0.9790209790209791 and parameters: {'min_child_samples': 26, 'max_depth': 3}. Best is trial 5 with value: 1.0.\u001b[0m\n",
      "\u001b[32m[I 2023-03-28 15:10:07,125]\u001b[0m Trial 66 finished with value: 0.986013986013986 and parameters: {'min_child_samples': 38, 'max_depth': 8}. Best is trial 5 with value: 1.0.\u001b[0m\n",
      "\u001b[32m[I 2023-03-28 15:10:07,391]\u001b[0m Trial 67 finished with value: 0.986013986013986 and parameters: {'min_child_samples': 40, 'max_depth': 4}. Best is trial 5 with value: 1.0.\u001b[0m\n",
      "\u001b[32m[I 2023-03-28 15:10:08,304]\u001b[0m Trial 68 finished with value: 0.9790209790209791 and parameters: {'min_child_samples': 32, 'max_depth': 6}. Best is trial 5 with value: 1.0.\u001b[0m\n",
      "\u001b[32m[I 2023-03-28 15:10:08,917]\u001b[0m Trial 69 finished with value: 0.993006993006993 and parameters: {'min_child_samples': 54, 'max_depth': 4}. Best is trial 5 with value: 1.0.\u001b[0m\n",
      "\u001b[32m[I 2023-03-28 15:10:09,348]\u001b[0m Trial 70 finished with value: 0.986013986013986 and parameters: {'min_child_samples': 99, 'max_depth': 3}. Best is trial 5 with value: 1.0.\u001b[0m\n",
      "\u001b[32m[I 2023-03-28 15:10:09,799]\u001b[0m Trial 71 finished with value: 1.0 and parameters: {'min_child_samples': 41, 'max_depth': 7}. Best is trial 5 with value: 1.0.\u001b[0m\n",
      "\u001b[32m[I 2023-03-28 15:10:10,265]\u001b[0m Trial 72 finished with value: 1.0 and parameters: {'min_child_samples': 41, 'max_depth': 9}. Best is trial 5 with value: 1.0.\u001b[0m\n",
      "\u001b[32m[I 2023-03-28 15:10:10,625]\u001b[0m Trial 73 finished with value: 1.0 and parameters: {'min_child_samples': 50, 'max_depth': 9}. Best is trial 5 with value: 1.0.\u001b[0m\n",
      "\u001b[32m[I 2023-03-28 15:10:10,958]\u001b[0m Trial 74 finished with value: 1.0 and parameters: {'min_child_samples': 51, 'max_depth': 9}. Best is trial 5 with value: 1.0.\u001b[0m\n",
      "\u001b[32m[I 2023-03-28 15:10:11,307]\u001b[0m Trial 75 finished with value: 1.0 and parameters: {'min_child_samples': 45, 'max_depth': 9}. Best is trial 5 with value: 1.0.\u001b[0m\n",
      "\u001b[32m[I 2023-03-28 15:10:11,594]\u001b[0m Trial 76 finished with value: 1.0 and parameters: {'min_child_samples': 43, 'max_depth': 11}. Best is trial 5 with value: 1.0.\u001b[0m\n",
      "\u001b[32m[I 2023-03-28 15:10:11,906]\u001b[0m Trial 77 finished with value: 1.0 and parameters: {'min_child_samples': 44, 'max_depth': 14}. Best is trial 5 with value: 1.0.\u001b[0m\n",
      "\u001b[32m[I 2023-03-28 15:10:12,212]\u001b[0m Trial 78 finished with value: 0.993006993006993 and parameters: {'min_child_samples': 46, 'max_depth': 6}. Best is trial 5 with value: 1.0.\u001b[0m\n",
      "\u001b[32m[I 2023-03-28 15:10:12,527]\u001b[0m Trial 79 finished with value: 1.0 and parameters: {'min_child_samples': 43, 'max_depth': 13}. Best is trial 5 with value: 1.0.\u001b[0m\n",
      "\u001b[32m[I 2023-03-28 15:10:12,877]\u001b[0m Trial 80 finished with value: 0.986013986013986 and parameters: {'min_child_samples': 58, 'max_depth': 13}. Best is trial 5 with value: 1.0.\u001b[0m\n",
      "\u001b[32m[I 2023-03-28 15:10:13,222]\u001b[0m Trial 81 finished with value: 0.993006993006993 and parameters: {'min_child_samples': 49, 'max_depth': 15}. Best is trial 5 with value: 1.0.\u001b[0m\n",
      "\u001b[32m[I 2023-03-28 15:10:13,511]\u001b[0m Trial 82 finished with value: 0.986013986013986 and parameters: {'min_child_samples': 38, 'max_depth': 5}. Best is trial 5 with value: 1.0.\u001b[0m\n",
      "\u001b[32m[I 2023-03-28 15:10:13,848]\u001b[0m Trial 83 finished with value: 0.993006993006993 and parameters: {'min_child_samples': 34, 'max_depth': 5}. Best is trial 5 with value: 1.0.\u001b[0m\n",
      "\u001b[32m[I 2023-03-28 15:10:14,140]\u001b[0m Trial 84 finished with value: 0.993006993006993 and parameters: {'min_child_samples': 55, 'max_depth': 6}. Best is trial 5 with value: 1.0.\u001b[0m\n",
      "\u001b[32m[I 2023-03-28 15:10:14,430]\u001b[0m Trial 85 finished with value: 1.0 and parameters: {'min_child_samples': 48, 'max_depth': 6}. Best is trial 5 with value: 1.0.\u001b[0m\n",
      "\u001b[32m[I 2023-03-28 15:10:14,777]\u001b[0m Trial 86 finished with value: 0.986013986013986 and parameters: {'min_child_samples': 52, 'max_depth': 7}. Best is trial 5 with value: 1.0.\u001b[0m\n",
      "\u001b[32m[I 2023-03-28 15:10:15,102]\u001b[0m Trial 87 finished with value: 1.0 and parameters: {'min_child_samples': 41, 'max_depth': 10}. Best is trial 5 with value: 1.0.\u001b[0m\n",
      "\u001b[32m[I 2023-03-28 15:10:15,403]\u001b[0m Trial 88 finished with value: 1.0 and parameters: {'min_child_samples': 40, 'max_depth': 10}. Best is trial 5 with value: 1.0.\u001b[0m\n",
      "\u001b[32m[I 2023-03-28 15:10:15,692]\u001b[0m Trial 89 finished with value: 1.0 and parameters: {'min_child_samples': 40, 'max_depth': 10}. Best is trial 5 with value: 1.0.\u001b[0m\n",
      "\u001b[32m[I 2023-03-28 15:10:16,026]\u001b[0m Trial 90 finished with value: 0.993006993006993 and parameters: {'min_child_samples': 29, 'max_depth': 9}. Best is trial 5 with value: 1.0.\u001b[0m\n",
      "\u001b[32m[I 2023-03-28 15:10:16,347]\u001b[0m Trial 91 finished with value: 1.0 and parameters: {'min_child_samples': 37, 'max_depth': 8}. Best is trial 5 with value: 1.0.\u001b[0m\n",
      "\u001b[32m[I 2023-03-28 15:10:16,662]\u001b[0m Trial 92 finished with value: 0.993006993006993 and parameters: {'min_child_samples': 47, 'max_depth': 4}. Best is trial 5 with value: 1.0.\u001b[0m\n",
      "\u001b[32m[I 2023-03-28 15:10:17,188]\u001b[0m Trial 93 finished with value: 0.993006993006993 and parameters: {'min_child_samples': 48, 'max_depth': 7}. Best is trial 5 with value: 1.0.\u001b[0m\n",
      "\u001b[32m[I 2023-03-28 15:10:17,503]\u001b[0m Trial 94 finished with value: 0.986013986013986 and parameters: {'min_child_samples': 52, 'max_depth': 7}. Best is trial 5 with value: 1.0.\u001b[0m\n",
      "\u001b[32m[I 2023-03-28 15:10:17,838]\u001b[0m Trial 95 finished with value: 1.0 and parameters: {'min_child_samples': 44, 'max_depth': 11}. Best is trial 5 with value: 1.0.\u001b[0m\n",
      "\u001b[32m[I 2023-03-28 15:10:18,151]\u001b[0m Trial 96 finished with value: 0.993006993006993 and parameters: {'min_child_samples': 46, 'max_depth': 6}. Best is trial 5 with value: 1.0.\u001b[0m\n",
      "\u001b[32m[I 2023-03-28 15:10:18,325]\u001b[0m Trial 97 finished with value: 0.9790209790209791 and parameters: {'min_child_samples': 30, 'max_depth': 5}. Best is trial 5 with value: 1.0.\u001b[0m\n",
      "\u001b[32m[I 2023-03-28 15:10:18,640]\u001b[0m Trial 98 finished with value: 1.0 and parameters: {'min_child_samples': 50, 'max_depth': 9}. Best is trial 5 with value: 1.0.\u001b[0m\n",
      "\u001b[32m[I 2023-03-28 15:10:18,822]\u001b[0m Trial 99 finished with value: 0.986013986013986 and parameters: {'min_child_samples': 61, 'max_depth': 4}. Best is trial 5 with value: 1.0.\u001b[0m\n",
      "Best validation accuracy: 1.000\n",
      "Best hyperparameters: {'min_child_samples': 40, 'max_depth': 9}\n"
     ]
    }
   ],
   "source": [
    "import optuna\n",
    "import lightgbm as lgb\n",
    "from sklearn.datasets import load_breast_cancer\n",
    "from sklearn.model_selection import train_test_split\n",
    "\n",
    "# Загрузить набор данных по раку молочной железы\n",
    "data, target = load_breast_cancer(return_X_y=True)\n",
    "\n",
    "# Разделите данные на обучающий и проверочный наборы\n",
    "train_x, valid_x, train_y, valid_y = train_test_split(data, target, test_size=0.25, random_state=0)\n",
    "\n",
    "# Определите объективную функцию для оптимизации\n",
    "def objective(trial):\n",
    "    # Определите пространство поиска для гиперпараметров\n",
    "    params = {\n",
    "        'objective': 'binary',\n",
    "        'metric': 'binary_logloss',\n",
    "        'verbosity': -1,\n",
    "        'boosting_type': 'gbdt',\n",
    "        'min_child_samples': trial.suggest_int('min_child_samples', 5, 100),\n",
    "        'max_depth': trial.suggest_int('max_depth', 3, 15),\n",
    "        'n_estimators': 10000\n",
    "    }\n",
    "\n",
    "    # Обучить модель, используя заданные гиперпараметры\n",
    "    model = lgb.train(params, lgb.Dataset(train_x, label=train_y), valid_sets=lgb.Dataset(valid_x, label=valid_y),\n",
    "                      early_stopping_rounds=100, verbose_eval=False)\n",
    "\n",
    "    # Вычислить точность валидации\n",
    "    valid_pred = model.predict(valid_x)\n",
    "    valid_acc = ((valid_pred > 0.5) == valid_y).mean()\n",
    "\n",
    "    # Возвращаем точность валидации в качестве объективного значения\n",
    "    return valid_acc\n",
    "\n",
    "# Создайте объект исследования и оптимизируйте объективную функцию\n",
    "study = optuna.create_study(direction='maximize')\n",
    "study.optimize(objective, n_trials=100, show_progress_bar=True)\n",
    "\n",
    "# Выведите наилучшую точность валидации и гиперпараметры\n",
    "print('Best validation accuracy: {:.3f}'.format(study.best_value))\n",
    "print('Best hyperparameters: {}'.format(study.best_params))"
   ]
  },
  {
   "cell_type": "code",
   "execution_count": null,
   "metadata": {
    "colab": {
     "referenced_widgets": [
      "6745f669db364625b32c849a7b4ed254"
     ]
    },
    "id": "AUQk5Kvikr07",
    "outputId": "bd10ed3d-021b-4645-fc7c-6028f8a2007b"
   },
   "outputs": [
    {
     "name": "stderr",
     "output_type": "stream",
     "text": [
      "\u001b[32m[I 2023-03-28 15:12:33,687]\u001b[0m A new study created in memory with name: no-name-a7ab1a62-c494-4359-89cf-da4f4710bc22\u001b[0m\n"
     ]
    },
    {
     "data": {
      "application/vnd.jupyter.widget-view+json": {
       "model_id": "6745f669db364625b32c849a7b4ed254",
       "version_major": 2,
       "version_minor": 0
      },
      "text/plain": [
       "  0%|          | 0/100 [00:00<?, ?it/s]"
      ]
     },
     "metadata": {},
     "output_type": "display_data"
    },
    {
     "name": "stdout",
     "output_type": "stream",
     "text": [
      "\u001b[32m[I 2023-03-28 15:12:33,904]\u001b[0m Trial 0 finished with value: 0.9790209790209791 and parameters: {'max_depth': 8, 'gamma': 2.71653617793686}. Best is trial 0 with value: 0.9790209790209791.\u001b[0m\n",
      "\u001b[32m[I 2023-03-28 15:12:33,964]\u001b[0m Trial 1 finished with value: 0.965034965034965 and parameters: {'max_depth': 13, 'gamma': 7.349289657237164}. Best is trial 0 with value: 0.9790209790209791.\u001b[0m\n",
      "\u001b[32m[I 2023-03-28 15:12:34,002]\u001b[0m Trial 2 finished with value: 0.965034965034965 and parameters: {'max_depth': 15, 'gamma': 1.6926756659177906}. Best is trial 0 with value: 0.9790209790209791.\u001b[0m\n",
      "\u001b[32m[I 2023-03-28 15:12:34,039]\u001b[0m Trial 3 finished with value: 0.9790209790209791 and parameters: {'max_depth': 8, 'gamma': 2.483474397662917}. Best is trial 0 with value: 0.9790209790209791.\u001b[0m\n",
      "\u001b[32m[I 2023-03-28 15:12:34,121]\u001b[0m Trial 4 finished with value: 0.965034965034965 and parameters: {'max_depth': 14, 'gamma': 4.0845471448075115}. Best is trial 0 with value: 0.9790209790209791.\u001b[0m\n",
      "\u001b[32m[I 2023-03-28 15:12:34,158]\u001b[0m Trial 5 finished with value: 0.9790209790209791 and parameters: {'max_depth': 13, 'gamma': 2.3495723714481334}. Best is trial 0 with value: 0.9790209790209791.\u001b[0m\n",
      "\u001b[32m[I 2023-03-28 15:12:34,207]\u001b[0m Trial 6 finished with value: 0.965034965034965 and parameters: {'max_depth': 10, 'gamma': 2.845135785475145}. Best is trial 0 with value: 0.9790209790209791.\u001b[0m\n",
      "\u001b[32m[I 2023-03-28 15:12:34,260]\u001b[0m Trial 7 finished with value: 0.972027972027972 and parameters: {'max_depth': 11, 'gamma': 8.359364114034666}. Best is trial 0 with value: 0.9790209790209791.\u001b[0m\n",
      "\u001b[32m[I 2023-03-28 15:12:34,302]\u001b[0m Trial 8 finished with value: 0.9790209790209791 and parameters: {'max_depth': 14, 'gamma': 1.4298859496696477}. Best is trial 0 with value: 0.9790209790209791.\u001b[0m\n",
      "\u001b[32m[I 2023-03-28 15:12:34,356]\u001b[0m Trial 9 finished with value: 0.9790209790209791 and parameters: {'max_depth': 11, 'gamma': 1.058457424848559}. Best is trial 0 with value: 0.9790209790209791.\u001b[0m\n",
      "\u001b[32m[I 2023-03-28 15:12:34,472]\u001b[0m Trial 10 finished with value: 0.958041958041958 and parameters: {'max_depth': 8, 'gamma': 4.92154850448743}. Best is trial 0 with value: 0.9790209790209791.\u001b[0m\n",
      "\u001b[32m[I 2023-03-28 15:12:34,560]\u001b[0m Trial 11 finished with value: 0.965034965034965 and parameters: {'max_depth': 8, 'gamma': 2.3011600296544574}. Best is trial 0 with value: 0.9790209790209791.\u001b[0m\n",
      "\u001b[32m[I 2023-03-28 15:12:34,623]\u001b[0m Trial 12 finished with value: 0.965034965034965 and parameters: {'max_depth': 9, 'gamma': 3.8436744835227006}. Best is trial 0 with value: 0.9790209790209791.\u001b[0m\n",
      "\u001b[32m[I 2023-03-28 15:12:34,686]\u001b[0m Trial 13 finished with value: 0.972027972027972 and parameters: {'max_depth': 9, 'gamma': 1.764105067168663}. Best is trial 0 with value: 0.9790209790209791.\u001b[0m\n",
      "\u001b[32m[I 2023-03-28 15:12:34,734]\u001b[0m Trial 14 finished with value: 0.965034965034965 and parameters: {'max_depth': 9, 'gamma': 5.650286345084349}. Best is trial 0 with value: 0.9790209790209791.\u001b[0m\n",
      "\u001b[32m[I 2023-03-28 15:12:34,790]\u001b[0m Trial 15 finished with value: 0.972027972027972 and parameters: {'max_depth': 8, 'gamma': 3.2015250944496856}. Best is trial 0 with value: 0.9790209790209791.\u001b[0m\n",
      "\u001b[32m[I 2023-03-28 15:12:34,839]\u001b[0m Trial 16 finished with value: 0.965034965034965 and parameters: {'max_depth': 10, 'gamma': 2.1626728207933463}. Best is trial 0 with value: 0.9790209790209791.\u001b[0m\n",
      "\u001b[32m[I 2023-03-28 15:12:34,901]\u001b[0m Trial 17 finished with value: 0.9790209790209791 and parameters: {'max_depth': 12, 'gamma': 1.087926505213496}. Best is trial 0 with value: 0.9790209790209791.\u001b[0m\n",
      "\u001b[32m[I 2023-03-28 15:12:34,947]\u001b[0m Trial 18 finished with value: 0.986013986013986 and parameters: {'max_depth': 11, 'gamma': 1.2360798338927765}. Best is trial 18 with value: 0.986013986013986.\u001b[0m\n",
      "\u001b[32m[I 2023-03-28 15:12:34,999]\u001b[0m Trial 19 finished with value: 0.9790209790209791 and parameters: {'max_depth': 13, 'gamma': 1.065398653071629}. Best is trial 18 with value: 0.986013986013986.\u001b[0m\n",
      "\u001b[32m[I 2023-03-28 15:12:35,044]\u001b[0m Trial 20 finished with value: 0.9790209790209791 and parameters: {'max_depth': 10, 'gamma': 1.423719231649989}. Best is trial 18 with value: 0.986013986013986.\u001b[0m\n",
      "\u001b[32m[I 2023-03-28 15:12:35,114]\u001b[0m Trial 21 finished with value: 0.9790209790209791 and parameters: {'max_depth': 12, 'gamma': 1.306706152258245}. Best is trial 18 with value: 0.986013986013986.\u001b[0m\n",
      "\u001b[32m[I 2023-03-28 15:12:35,180]\u001b[0m Trial 22 finished with value: 0.9790209790209791 and parameters: {'max_depth': 13, 'gamma': 1.0419669940869283}. Best is trial 18 with value: 0.986013986013986.\u001b[0m\n",
      "\u001b[32m[I 2023-03-28 15:12:35,222]\u001b[0m Trial 23 finished with value: 0.972027972027972 and parameters: {'max_depth': 10, 'gamma': 1.7190271084315831}. Best is trial 18 with value: 0.986013986013986.\u001b[0m\n",
      "\u001b[32m[I 2023-03-28 15:12:35,275]\u001b[0m Trial 24 finished with value: 0.9790209790209791 and parameters: {'max_depth': 12, 'gamma': 1.3446308599100634}. Best is trial 18 with value: 0.986013986013986.\u001b[0m\n",
      "\u001b[32m[I 2023-03-28 15:12:35,321]\u001b[0m Trial 25 finished with value: 0.972027972027972 and parameters: {'max_depth': 14, 'gamma': 1.8975653021742545}. Best is trial 18 with value: 0.986013986013986.\u001b[0m\n",
      "\u001b[32m[I 2023-03-28 15:12:35,380]\u001b[0m Trial 26 finished with value: 0.986013986013986 and parameters: {'max_depth': 15, 'gamma': 1.2205838073820447}. Best is trial 18 with value: 0.986013986013986.\u001b[0m\n",
      "\u001b[32m[I 2023-03-28 15:12:35,431]\u001b[0m Trial 27 finished with value: 0.986013986013986 and parameters: {'max_depth': 15, 'gamma': 1.2630065324390458}. Best is trial 18 with value: 0.986013986013986.\u001b[0m\n",
      "\u001b[32m[I 2023-03-28 15:12:35,485]\u001b[0m Trial 28 finished with value: 0.986013986013986 and parameters: {'max_depth': 15, 'gamma': 1.2479905557306368}. Best is trial 18 with value: 0.986013986013986.\u001b[0m\n",
      "\u001b[32m[I 2023-03-28 15:12:35,539]\u001b[0m Trial 29 finished with value: 0.972027972027972 and parameters: {'max_depth': 15, 'gamma': 1.5946281510319695}. Best is trial 18 with value: 0.986013986013986.\u001b[0m\n",
      "\u001b[32m[I 2023-03-28 15:12:35,644]\u001b[0m Trial 30 finished with value: 0.986013986013986 and parameters: {'max_depth': 15, 'gamma': 1.1970550321807139}. Best is trial 18 with value: 0.986013986013986.\u001b[0m\n",
      "\u001b[32m[I 2023-03-28 15:12:35,712]\u001b[0m Trial 31 finished with value: 0.986013986013986 and parameters: {'max_depth': 15, 'gamma': 1.206498315197071}. Best is trial 18 with value: 0.986013986013986.\u001b[0m\n",
      "\u001b[32m[I 2023-03-28 15:12:35,803]\u001b[0m Trial 32 finished with value: 0.9790209790209791 and parameters: {'max_depth': 15, 'gamma': 1.988854558791555}. Best is trial 18 with value: 0.986013986013986.\u001b[0m\n",
      "\u001b[32m[I 2023-03-28 15:12:35,881]\u001b[0m Trial 33 finished with value: 0.965034965034965 and parameters: {'max_depth': 14, 'gamma': 1.4841197167711075}. Best is trial 18 with value: 0.986013986013986.\u001b[0m\n",
      "\u001b[32m[I 2023-03-28 15:12:35,975]\u001b[0m Trial 34 finished with value: 0.986013986013986 and parameters: {'max_depth': 15, 'gamma': 1.1979774703065762}. Best is trial 18 with value: 0.986013986013986.\u001b[0m\n",
      "\u001b[32m[I 2023-03-28 15:12:36,053]\u001b[0m Trial 35 finished with value: 0.972027972027972 and parameters: {'max_depth': 14, 'gamma': 1.5947280887226043}. Best is trial 18 with value: 0.986013986013986.\u001b[0m\n",
      "\u001b[32m[I 2023-03-28 15:12:36,225]\u001b[0m Trial 36 finished with value: 0.986013986013986 and parameters: {'max_depth': 15, 'gamma': 1.1688830630542857}. Best is trial 18 with value: 0.986013986013986.\u001b[0m\n",
      "\u001b[32m[I 2023-03-28 15:12:36,292]\u001b[0m Trial 37 finished with value: 0.9790209790209791 and parameters: {'max_depth': 13, 'gamma': 1.0042807542992411}. Best is trial 18 with value: 0.986013986013986.\u001b[0m\n",
      "\u001b[32m[I 2023-03-28 15:12:36,369]\u001b[0m Trial 38 finished with value: 0.9790209790209791 and parameters: {'max_depth': 11, 'gamma': 2.73483846887168}. Best is trial 18 with value: 0.986013986013986.\u001b[0m\n",
      "\u001b[32m[I 2023-03-28 15:12:36,426]\u001b[0m Trial 39 finished with value: 0.958041958041958 and parameters: {'max_depth': 14, 'gamma': 9.683759724990153}. Best is trial 18 with value: 0.986013986013986.\u001b[0m\n",
      "\u001b[32m[I 2023-03-28 15:12:36,543]\u001b[0m Trial 40 finished with value: 0.9790209790209791 and parameters: {'max_depth': 15, 'gamma': 2.0044150577767517}. Best is trial 18 with value: 0.986013986013986.\u001b[0m\n",
      "\u001b[32m[I 2023-03-28 15:12:36,607]\u001b[0m Trial 41 finished with value: 0.986013986013986 and parameters: {'max_depth': 15, 'gamma': 1.203155508664357}. Best is trial 18 with value: 0.986013986013986.\u001b[0m\n",
      "\u001b[32m[I 2023-03-28 15:12:36,679]\u001b[0m Trial 42 finished with value: 0.9790209790209791 and parameters: {'max_depth': 15, 'gamma': 1.461663323326466}. Best is trial 18 with value: 0.986013986013986.\u001b[0m\n",
      "\u001b[32m[I 2023-03-28 15:12:36,740]\u001b[0m Trial 43 finished with value: 0.9790209790209791 and parameters: {'max_depth': 14, 'gamma': 1.3331048236904215}. Best is trial 18 with value: 0.986013986013986.\u001b[0m\n",
      "\u001b[32m[I 2023-03-28 15:12:36,826]\u001b[0m Trial 44 finished with value: 0.986013986013986 and parameters: {'max_depth': 14, 'gamma': 1.1699273819988754}. Best is trial 18 with value: 0.986013986013986.\u001b[0m\n",
      "\u001b[32m[I 2023-03-28 15:12:36,900]\u001b[0m Trial 45 finished with value: 0.972027972027972 and parameters: {'max_depth': 14, 'gamma': 1.5810161803021334}. Best is trial 18 with value: 0.986013986013986.\u001b[0m\n",
      "\u001b[32m[I 2023-03-28 15:12:36,977]\u001b[0m Trial 46 finished with value: 0.986013986013986 and parameters: {'max_depth': 15, 'gamma': 1.1094781366398871}. Best is trial 18 with value: 0.986013986013986.\u001b[0m\n",
      "\u001b[32m[I 2023-03-28 15:12:37,039]\u001b[0m Trial 47 finished with value: 0.9790209790209791 and parameters: {'max_depth': 15, 'gamma': 1.0008390874238593}. Best is trial 18 with value: 0.986013986013986.\u001b[0m\n",
      "\u001b[32m[I 2023-03-28 15:12:37,110]\u001b[0m Trial 48 finished with value: 0.986013986013986 and parameters: {'max_depth': 11, 'gamma': 1.1198618748439837}. Best is trial 18 with value: 0.986013986013986.\u001b[0m\n",
      "\u001b[32m[I 2023-03-28 15:12:37,173]\u001b[0m Trial 49 finished with value: 0.9790209790209791 and parameters: {'max_depth': 11, 'gamma': 1.3457708486839288}. Best is trial 18 with value: 0.986013986013986.\u001b[0m\n",
      "\u001b[32m[I 2023-03-28 15:12:37,245]\u001b[0m Trial 50 finished with value: 0.972027972027972 and parameters: {'max_depth': 13, 'gamma': 3.126149248171008}. Best is trial 18 with value: 0.986013986013986.\u001b[0m\n",
      "\u001b[32m[I 2023-03-28 15:12:37,311]\u001b[0m Trial 51 finished with value: 0.986013986013986 and parameters: {'max_depth': 15, 'gamma': 1.1735619339166796}. Best is trial 18 with value: 0.986013986013986.\u001b[0m\n",
      "\u001b[32m[I 2023-03-28 15:12:37,384]\u001b[0m Trial 52 finished with value: 0.986013986013986 and parameters: {'max_depth': 11, 'gamma': 1.1021475178679252}. Best is trial 18 with value: 0.986013986013986.\u001b[0m\n",
      "\u001b[32m[I 2023-03-28 15:12:37,468]\u001b[0m Trial 53 finished with value: 0.986013986013986 and parameters: {'max_depth': 14, 'gamma': 1.1324306157768191}. Best is trial 18 with value: 0.986013986013986.\u001b[0m\n",
      "\u001b[32m[I 2023-03-28 15:12:37,570]\u001b[0m Trial 54 finished with value: 0.958041958041958 and parameters: {'max_depth': 14, 'gamma': 6.372572167516053}. Best is trial 18 with value: 0.986013986013986.\u001b[0m\n",
      "\u001b[32m[I 2023-03-28 15:12:37,651]\u001b[0m Trial 55 finished with value: 0.986013986013986 and parameters: {'max_depth': 12, 'gamma': 1.1055230626268218}. Best is trial 18 with value: 0.986013986013986.\u001b[0m\n",
      "\u001b[32m[I 2023-03-28 15:12:37,755]\u001b[0m Trial 56 finished with value: 0.9790209790209791 and parameters: {'max_depth': 10, 'gamma': 1.0862533380267594}. Best is trial 18 with value: 0.986013986013986.\u001b[0m\n",
      "\u001b[32m[I 2023-03-28 15:12:37,833]\u001b[0m Trial 57 finished with value: 0.972027972027972 and parameters: {'max_depth': 12, 'gamma': 1.8254330120014137}. Best is trial 18 with value: 0.986013986013986.\u001b[0m\n",
      "\u001b[32m[I 2023-03-28 15:12:37,927]\u001b[0m Trial 58 finished with value: 0.9790209790209791 and parameters: {'max_depth': 15, 'gamma': 1.4329163276779942}. Best is trial 18 with value: 0.986013986013986.\u001b[0m\n",
      "\u001b[32m[I 2023-03-28 15:12:38,005]\u001b[0m Trial 59 finished with value: 0.965034965034965 and parameters: {'max_depth': 15, 'gamma': 1.6528812416611096}. Best is trial 18 with value: 0.986013986013986.\u001b[0m\n",
      "\u001b[32m[I 2023-03-28 15:12:38,102]\u001b[0m Trial 60 finished with value: 0.986013986013986 and parameters: {'max_depth': 15, 'gamma': 1.2646189212335928}. Best is trial 18 with value: 0.986013986013986.\u001b[0m\n",
      "\u001b[32m[I 2023-03-28 15:12:38,174]\u001b[0m Trial 61 finished with value: 0.986013986013986 and parameters: {'max_depth': 11, 'gamma': 1.1377449018703314}. Best is trial 18 with value: 0.986013986013986.\u001b[0m\n",
      "\u001b[32m[I 2023-03-28 15:12:38,257]\u001b[0m Trial 62 finished with value: 0.986013986013986 and parameters: {'max_depth': 15, 'gamma': 1.2478680071211337}. Best is trial 18 with value: 0.986013986013986.\u001b[0m\n",
      "\u001b[32m[I 2023-03-28 15:12:38,348]\u001b[0m Trial 63 finished with value: 0.9790209790209791 and parameters: {'max_depth': 15, 'gamma': 1.3784053118861173}. Best is trial 18 with value: 0.986013986013986.\u001b[0m\n",
      "\u001b[32m[I 2023-03-28 15:12:38,434]\u001b[0m Trial 64 finished with value: 0.972027972027972 and parameters: {'max_depth': 15, 'gamma': 1.5414448289419895}. Best is trial 18 with value: 0.986013986013986.\u001b[0m\n",
      "\u001b[32m[I 2023-03-28 15:12:38,515]\u001b[0m Trial 65 finished with value: 0.9790209790209791 and parameters: {'max_depth': 14, 'gamma': 2.45937276714909}. Best is trial 18 with value: 0.986013986013986.\u001b[0m\n",
      "\u001b[32m[I 2023-03-28 15:12:38,604]\u001b[0m Trial 66 finished with value: 0.986013986013986 and parameters: {'max_depth': 15, 'gamma': 1.2515459750438276}. Best is trial 18 with value: 0.986013986013986.\u001b[0m\n",
      "\u001b[32m[I 2023-03-28 15:12:38,678]\u001b[0m Trial 67 finished with value: 0.9790209790209791 and parameters: {'max_depth': 15, 'gamma': 1.3344522493636681}. Best is trial 18 with value: 0.986013986013986.\u001b[0m\n",
      "\u001b[32m[I 2023-03-28 15:12:38,763]\u001b[0m Trial 68 finished with value: 0.9790209790209791 and parameters: {'max_depth': 15, 'gamma': 1.272717273537749}. Best is trial 18 with value: 0.986013986013986.\u001b[0m\n",
      "\u001b[32m[I 2023-03-28 15:12:38,832]\u001b[0m Trial 69 finished with value: 0.965034965034965 and parameters: {'max_depth': 14, 'gamma': 1.6838281556260326}. Best is trial 18 with value: 0.986013986013986.\u001b[0m\n",
      "\u001b[32m[I 2023-03-28 15:12:38,912]\u001b[0m Trial 70 finished with value: 0.9790209790209791 and parameters: {'max_depth': 10, 'gamma': 1.0061730503993278}. Best is trial 18 with value: 0.986013986013986.\u001b[0m\n",
      "\u001b[32m[I 2023-03-28 15:12:38,987]\u001b[0m Trial 71 finished with value: 0.958041958041958 and parameters: {'max_depth': 15, 'gamma': 4.420026690536537}. Best is trial 18 with value: 0.986013986013986.\u001b[0m\n",
      "\u001b[32m[I 2023-03-28 15:12:39,101]\u001b[0m Trial 72 finished with value: 0.9790209790209791 and parameters: {'max_depth': 11, 'gamma': 1.0769594276496028}. Best is trial 18 with value: 0.986013986013986.\u001b[0m\n",
      "\u001b[32m[I 2023-03-28 15:12:39,180]\u001b[0m Trial 73 finished with value: 0.986013986013986 and parameters: {'max_depth': 14, 'gamma': 1.191900237429997}. Best is trial 18 with value: 0.986013986013986.\u001b[0m\n",
      "\u001b[32m[I 2023-03-28 15:12:39,452]\u001b[0m Trial 74 finished with value: 0.986013986013986 and parameters: {'max_depth': 15, 'gamma': 1.181491030092553}. Best is trial 18 with value: 0.986013986013986.\u001b[0m\n",
      "\u001b[32m[I 2023-03-28 15:12:39,537]\u001b[0m Trial 75 finished with value: 0.965034965034965 and parameters: {'max_depth': 14, 'gamma': 1.5035072103204477}. Best is trial 18 with value: 0.986013986013986.\u001b[0m\n",
      "\u001b[32m[I 2023-03-28 15:12:39,664]\u001b[0m Trial 76 finished with value: 0.9790209790209791 and parameters: {'max_depth': 15, 'gamma': 1.3993990367601443}. Best is trial 18 with value: 0.986013986013986.\u001b[0m\n",
      "\u001b[32m[I 2023-03-28 15:12:39,751]\u001b[0m Trial 77 finished with value: 0.986013986013986 and parameters: {'max_depth': 15, 'gamma': 1.2346147118040414}. Best is trial 18 with value: 0.986013986013986.\u001b[0m\n",
      "\u001b[32m[I 2023-03-28 15:12:39,822]\u001b[0m Trial 78 finished with value: 0.986013986013986 and parameters: {'max_depth': 15, 'gamma': 1.2201823003012802}. Best is trial 18 with value: 0.986013986013986.\u001b[0m\n",
      "\u001b[32m[I 2023-03-28 15:12:39,901]\u001b[0m Trial 79 finished with value: 0.965034965034965 and parameters: {'max_depth': 15, 'gamma': 1.4902713731263681}. Best is trial 18 with value: 0.986013986013986.\u001b[0m\n",
      "\u001b[32m[I 2023-03-28 15:12:39,967]\u001b[0m Trial 80 finished with value: 0.9790209790209791 and parameters: {'max_depth': 13, 'gamma': 1.0379250999095735}. Best is trial 18 with value: 0.986013986013986.\u001b[0m\n",
      "\u001b[32m[I 2023-03-28 15:12:40,039]\u001b[0m Trial 81 finished with value: 0.9790209790209791 and parameters: {'max_depth': 14, 'gamma': 1.3226546221958317}. Best is trial 18 with value: 0.986013986013986.\u001b[0m\n",
      "\u001b[32m[I 2023-03-28 15:12:40,105]\u001b[0m Trial 82 finished with value: 0.986013986013986 and parameters: {'max_depth': 12, 'gamma': 1.1204637063259197}. Best is trial 18 with value: 0.986013986013986.\u001b[0m\n",
      "\u001b[32m[I 2023-03-28 15:12:40,177]\u001b[0m Trial 83 finished with value: 0.986013986013986 and parameters: {'max_depth': 15, 'gamma': 1.1464683429395242}. Best is trial 18 with value: 0.986013986013986.\u001b[0m\n",
      "\u001b[32m[I 2023-03-28 15:12:40,242]\u001b[0m Trial 84 finished with value: 0.9790209790209791 and parameters: {'max_depth': 14, 'gamma': 1.0574967531911734}. Best is trial 18 with value: 0.986013986013986.\u001b[0m\n",
      "\u001b[32m[I 2023-03-28 15:12:40,312]\u001b[0m Trial 85 finished with value: 0.986013986013986 and parameters: {'max_depth': 11, 'gamma': 1.1374316963383904}. Best is trial 18 with value: 0.986013986013986.\u001b[0m\n",
      "\u001b[32m[I 2023-03-28 15:12:40,375]\u001b[0m Trial 86 finished with value: 0.986013986013986 and parameters: {'max_depth': 11, 'gamma': 1.1235610541590635}. Best is trial 18 with value: 0.986013986013986.\u001b[0m\n",
      "\u001b[32m[I 2023-03-28 15:12:40,446]\u001b[0m Trial 87 finished with value: 0.9790209790209791 and parameters: {'max_depth': 12, 'gamma': 1.3117677621972448}. Best is trial 18 with value: 0.986013986013986.\u001b[0m\n",
      "\u001b[32m[I 2023-03-28 15:12:40,507]\u001b[0m Trial 88 finished with value: 0.9790209790209791 and parameters: {'max_depth': 9, 'gamma': 1.4211137431881786}. Best is trial 18 with value: 0.986013986013986.\u001b[0m\n",
      "\u001b[32m[I 2023-03-28 15:12:40,581]\u001b[0m Trial 89 finished with value: 0.986013986013986 and parameters: {'max_depth': 13, 'gamma': 1.2617589580724202}. Best is trial 18 with value: 0.986013986013986.\u001b[0m\n",
      "\u001b[32m[I 2023-03-28 15:12:40,644]\u001b[0m Trial 90 finished with value: 0.986013986013986 and parameters: {'max_depth': 15, 'gamma': 1.1839517179274104}. Best is trial 18 with value: 0.986013986013986.\u001b[0m\n",
      "\u001b[32m[I 2023-03-28 15:12:40,727]\u001b[0m Trial 91 finished with value: 0.986013986013986 and parameters: {'max_depth': 15, 'gamma': 1.244929251621313}. Best is trial 18 with value: 0.986013986013986.\u001b[0m\n",
      "\u001b[32m[I 2023-03-28 15:12:40,813]\u001b[0m Trial 92 finished with value: 0.9790209790209791 and parameters: {'max_depth': 15, 'gamma': 1.2687801624964656}. Best is trial 18 with value: 0.986013986013986.\u001b[0m\n",
      "\u001b[32m[I 2023-03-28 15:12:40,961]\u001b[0m Trial 93 finished with value: 0.9790209790209791 and parameters: {'max_depth': 15, 'gamma': 1.3667254237614925}. Best is trial 18 with value: 0.986013986013986.\u001b[0m\n",
      "\u001b[32m[I 2023-03-28 15:12:41,026]\u001b[0m Trial 94 finished with value: 0.9790209790209791 and parameters: {'max_depth': 15, 'gamma': 1.0436629085398492}. Best is trial 18 with value: 0.986013986013986.\u001b[0m\n",
      "\u001b[32m[I 2023-03-28 15:12:41,112]\u001b[0m Trial 95 finished with value: 0.972027972027972 and parameters: {'max_depth': 15, 'gamma': 1.5563403201962476}. Best is trial 18 with value: 0.986013986013986.\u001b[0m\n",
      "\u001b[32m[I 2023-03-28 15:12:41,209]\u001b[0m Trial 96 finished with value: 0.9790209790209791 and parameters: {'max_depth': 11, 'gamma': 1.287097286996723}. Best is trial 18 with value: 0.986013986013986.\u001b[0m\n",
      "\u001b[32m[I 2023-03-28 15:12:41,305]\u001b[0m Trial 97 finished with value: 0.972027972027972 and parameters: {'max_depth': 15, 'gamma': 1.773545301172327}. Best is trial 18 with value: 0.986013986013986.\u001b[0m\n",
      "\u001b[32m[I 2023-03-28 15:12:41,372]\u001b[0m Trial 98 finished with value: 0.9790209790209791 and parameters: {'max_depth': 10, 'gamma': 1.3909044998322009}. Best is trial 18 with value: 0.986013986013986.\u001b[0m\n",
      "\u001b[32m[I 2023-03-28 15:12:41,483]\u001b[0m Trial 99 finished with value: 0.986013986013986 and parameters: {'max_depth': 14, 'gamma': 1.1687275811512263}. Best is trial 18 with value: 0.986013986013986.\u001b[0m\n",
      "Best validation accuracy: 0.986\n",
      "Best hyperparameters: {'max_depth': 11, 'gamma': 1.2360798338927765}\n"
     ]
    }
   ],
   "source": [
    "import optuna\n",
    "import xgboost as xgb\n",
    "from sklearn.datasets import load_breast_cancer\n",
    "from sklearn.model_selection import train_test_split\n",
    "\n",
    "# Загрузить набор данных по раку молочной железы\n",
    "data, target = load_breast_cancer(return_X_y=True)\n",
    "\n",
    "# Разделите данные на обучающий и проверочный наборы\n",
    "train_x, valid_x, train_y, valid_y = train_test_split(data, target, test_size=0.25, random_state=0)\n",
    "\n",
    "# Определите объективную функцию для оптимизации\n",
    "def objective(trial):\n",
    "    # Определите пространство поиска для гиперпараметров\n",
    "    params = {\n",
    "        'objective': 'binary:logistic',\n",
    "        'eval_metric': 'logloss',\n",
    "        'verbosity': 0,\n",
    "        'booster': 'gbtree',\n",
    "        'tree_method': 'auto',\n",
    "        'nthread': -1,\n",
    "        'max_depth': trial.suggest_int('max_depth', 8, 15),\n",
    "        'gamma': trial.suggest_float('gamma', 1, 10, log=True),\n",
    "        'n_estimators': 10000\n",
    "    }\n",
    "\n",
    "    # Обучить модель, используя заданные гиперпараметры\n",
    "    model = xgb.train(params, xgb.DMatrix(train_x, label=train_y), evals=[(xgb.DMatrix(valid_x, label=valid_y), 'valid')],\n",
    "                    early_stopping_rounds=100, verbose_eval=False)\n",
    "\n",
    "    # Вычислить точность валидации\n",
    "    valid_pred = model.predict(xgb.DMatrix(valid_x))\n",
    "    valid_acc = ((valid_pred > 0.5) == valid_y).mean()\n",
    "\n",
    "    # Возвращаем точность валидации в качестве объективного значения\n",
    "    return valid_acc\n",
    "\n",
    "study = optuna.create_study(direction='maximize')\n",
    "study.optimize(objective, n_trials=100, show_progress_bar=True)\n",
    "\n",
    "print('Best validation accuracy: {:.3f}'.format(study.best_value))\n",
    "print('Best hyperparameters: {}'.format(study.best_params))"
   ]
  },
  {
   "cell_type": "code",
   "execution_count": null,
   "metadata": {
    "colab": {
     "referenced_widgets": [
      "386934c250d04530bad6ccbd6546374e"
     ]
    },
    "id": "npQkIMFEkr07",
    "outputId": "5c735191-2e1f-441d-a258-b8f5fd42f5e5"
   },
   "outputs": [
    {
     "name": "stderr",
     "output_type": "stream",
     "text": [
      "\u001b[32m[I 2023-03-28 15:15:42,212]\u001b[0m A new study created in memory with name: no-name-d2e017ef-ad0a-4557-8852-ddfce0f8e5cd\u001b[0m\n"
     ]
    },
    {
     "data": {
      "application/vnd.jupyter.widget-view+json": {
       "model_id": "386934c250d04530bad6ccbd6546374e",
       "version_major": 2,
       "version_minor": 0
      },
      "text/plain": [
       "  0%|          | 0/100 [00:00<?, ?it/s]"
      ]
     },
     "metadata": {},
     "output_type": "display_data"
    },
    {
     "name": "stderr",
     "output_type": "stream",
     "text": [
      "Custom logger is already specified. Specify more than one logger at same time is not thread safe."
     ]
    },
    {
     "name": "stdout",
     "output_type": "stream",
     "text": [
      "\u001b[32m[I 2023-03-28 15:15:43,390]\u001b[0m Trial 0 finished with value: 0.965034965034965 and parameters: {'depth': 5, 'l2_leaf_reg': 0.00021691076330840472}. Best is trial 0 with value: 0.965034965034965.\u001b[0m\n",
      "\u001b[32m[I 2023-03-28 15:15:43,813]\u001b[0m Trial 1 finished with value: 0.986013986013986 and parameters: {'depth': 3, 'l2_leaf_reg': 1.0474232039953453}. Best is trial 1 with value: 0.986013986013986.\u001b[0m\n",
      "\u001b[32m[I 2023-03-28 15:15:44,604]\u001b[0m Trial 2 finished with value: 0.972027972027972 and parameters: {'depth': 4, 'l2_leaf_reg': 2.5264861430853394e-05}. Best is trial 1 with value: 0.986013986013986.\u001b[0m\n",
      "\u001b[32m[I 2023-03-28 15:15:45,049]\u001b[0m Trial 3 finished with value: 0.9790209790209791 and parameters: {'depth': 3, 'l2_leaf_reg': 0.004901425439536222}. Best is trial 1 with value: 0.986013986013986.\u001b[0m\n",
      "\u001b[32m[I 2023-03-28 15:15:45,500]\u001b[0m Trial 4 finished with value: 0.965034965034965 and parameters: {'depth': 4, 'l2_leaf_reg': 0.04265427009162856}. Best is trial 1 with value: 0.986013986013986.\u001b[0m\n",
      "\u001b[32m[I 2023-03-28 15:15:45,860]\u001b[0m Trial 5 finished with value: 0.9790209790209791 and parameters: {'depth': 3, 'l2_leaf_reg': 0.003128110126115251}. Best is trial 1 with value: 0.986013986013986.\u001b[0m\n",
      "\u001b[32m[I 2023-03-28 15:15:47,477]\u001b[0m Trial 6 finished with value: 0.972027972027972 and parameters: {'depth': 6, 'l2_leaf_reg': 3.704543296453427}. Best is trial 1 with value: 0.986013986013986.\u001b[0m\n",
      "\u001b[32m[I 2023-03-28 15:15:48,057]\u001b[0m Trial 7 finished with value: 0.972027972027972 and parameters: {'depth': 3, 'l2_leaf_reg': 0.41628905907092495}. Best is trial 1 with value: 0.986013986013986.\u001b[0m\n",
      "\u001b[32m[I 2023-03-28 15:15:49,081]\u001b[0m Trial 8 finished with value: 0.951048951048951 and parameters: {'depth': 6, 'l2_leaf_reg': 0.0001185654923084984}. Best is trial 1 with value: 0.986013986013986.\u001b[0m\n",
      "\u001b[32m[I 2023-03-28 15:15:49,548]\u001b[0m Trial 9 finished with value: 0.993006993006993 and parameters: {'depth': 3, 'l2_leaf_reg': 5.0444434631767825e-05}. Best is trial 9 with value: 0.993006993006993.\u001b[0m\n",
      "\u001b[32m[I 2023-03-28 15:15:50,140]\u001b[0m Trial 10 finished with value: 0.9790209790209791 and parameters: {'depth': 5, 'l2_leaf_reg': 1.2041562394464087e-05}. Best is trial 9 with value: 0.993006993006993.\u001b[0m\n",
      "\u001b[32m[I 2023-03-28 15:15:50,789]\u001b[0m Trial 11 finished with value: 0.972027972027972 and parameters: {'depth': 4, 'l2_leaf_reg': 5.834674705292602}. Best is trial 9 with value: 0.993006993006993.\u001b[0m\n",
      "\u001b[32m[I 2023-03-28 15:15:51,268]\u001b[0m Trial 12 finished with value: 0.951048951048951 and parameters: {'depth': 3, 'l2_leaf_reg': 0.05822091368339418}. Best is trial 9 with value: 0.993006993006993.\u001b[0m\n",
      "\u001b[32m[I 2023-03-28 15:15:51,895]\u001b[0m Trial 13 finished with value: 0.958041958041958 and parameters: {'depth': 3, 'l2_leaf_reg': 0.0006600362415729984}. Best is trial 9 with value: 0.993006993006993.\u001b[0m\n",
      "\u001b[32m[I 2023-03-28 15:15:52,411]\u001b[0m Trial 14 finished with value: 0.986013986013986 and parameters: {'depth': 4, 'l2_leaf_reg': 0.24072777734792877}. Best is trial 9 with value: 0.993006993006993.\u001b[0m\n",
      "\u001b[32m[I 2023-03-28 15:15:52,802]\u001b[0m Trial 15 finished with value: 0.9790209790209791 and parameters: {'depth': 3, 'l2_leaf_reg': 0.3964541348064377}. Best is trial 9 with value: 0.993006993006993.\u001b[0m\n",
      "\u001b[32m[I 2023-03-28 15:15:53,372]\u001b[0m Trial 16 finished with value: 0.958041958041958 and parameters: {'depth': 5, 'l2_leaf_reg': 0.026692201477222986}. Best is trial 9 with value: 0.993006993006993.\u001b[0m\n",
      "\u001b[32m[I 2023-03-28 15:15:53,939]\u001b[0m Trial 17 finished with value: 0.965034965034965 and parameters: {'depth': 4, 'l2_leaf_reg': 0.0007140190861871981}. Best is trial 9 with value: 0.993006993006993.\u001b[0m\n",
      "\u001b[32m[I 2023-03-28 15:15:54,289]\u001b[0m Trial 18 finished with value: 0.972027972027972 and parameters: {'depth': 3, 'l2_leaf_reg': 1.6790913672122794}. Best is trial 9 with value: 0.993006993006993.\u001b[0m\n",
      "\u001b[32m[I 2023-03-28 15:15:54,976]\u001b[0m Trial 19 finished with value: 0.972027972027972 and parameters: {'depth': 4, 'l2_leaf_reg': 6.122444483820685e-05}. Best is trial 9 with value: 0.993006993006993.\u001b[0m\n",
      "\u001b[32m[I 2023-03-28 15:15:55,422]\u001b[0m Trial 20 finished with value: 0.972027972027972 and parameters: {'depth': 3, 'l2_leaf_reg': 0.0023210052134580122}. Best is trial 9 with value: 0.993006993006993.\u001b[0m\n",
      "\u001b[32m[I 2023-03-28 15:15:55,962]\u001b[0m Trial 21 finished with value: 0.972027972027972 and parameters: {'depth': 4, 'l2_leaf_reg': 0.3249712344783252}. Best is trial 9 with value: 0.993006993006993.\u001b[0m\n",
      "\u001b[32m[I 2023-03-28 15:15:56,567]\u001b[0m Trial 22 finished with value: 0.958041958041958 and parameters: {'depth': 4, 'l2_leaf_reg': 0.14526027494436497}. Best is trial 9 with value: 0.993006993006993.\u001b[0m\n",
      "\u001b[32m[I 2023-03-28 15:15:56,982]\u001b[0m Trial 23 finished with value: 0.9790209790209791 and parameters: {'depth': 3, 'l2_leaf_reg': 0.8296827605952889}. Best is trial 9 with value: 0.993006993006993.\u001b[0m\n",
      "\u001b[32m[I 2023-03-28 15:15:57,527]\u001b[0m Trial 24 finished with value: 0.993006993006993 and parameters: {'depth': 5, 'l2_leaf_reg': 0.15309042281205335}. Best is trial 9 with value: 0.993006993006993.\u001b[0m\n",
      "\u001b[32m[I 2023-03-28 15:15:58,206]\u001b[0m Trial 25 finished with value: 0.9790209790209791 and parameters: {'depth': 5, 'l2_leaf_reg': 0.016195755510100718}. Best is trial 9 with value: 0.993006993006993.\u001b[0m\n",
      "\u001b[32m[I 2023-03-28 15:15:59,190]\u001b[0m Trial 26 finished with value: 0.958041958041958 and parameters: {'depth': 6, 'l2_leaf_reg': 0.08904214000001334}. Best is trial 9 with value: 0.993006993006993.\u001b[0m\n",
      "\u001b[32m[I 2023-03-28 15:16:00,236]\u001b[0m Trial 27 finished with value: 1.0 and parameters: {'depth': 5, 'l2_leaf_reg': 1.195826154259436}. Best is trial 27 with value: 1.0.\u001b[0m\n",
      "\u001b[32m[I 2023-03-28 15:16:00,930]\u001b[0m Trial 28 finished with value: 0.9790209790209791 and parameters: {'depth': 5, 'l2_leaf_reg': 9.623349438133726}. Best is trial 27 with value: 1.0.\u001b[0m\n",
      "\u001b[32m[I 2023-03-28 15:16:01,631]\u001b[0m Trial 29 finished with value: 0.972027972027972 and parameters: {'depth': 5, 'l2_leaf_reg': 2.523123360423201}. Best is trial 27 with value: 1.0.\u001b[0m\n",
      "\u001b[32m[I 2023-03-28 15:16:02,660]\u001b[0m Trial 30 finished with value: 0.958041958041958 and parameters: {'depth': 6, 'l2_leaf_reg': 0.00031020285989074003}. Best is trial 27 with value: 1.0.\u001b[0m\n",
      "\u001b[32m[I 2023-03-28 15:16:03,652]\u001b[0m Trial 31 finished with value: 0.9790209790209791 and parameters: {'depth': 5, 'l2_leaf_reg': 1.0441069447780413}. Best is trial 27 with value: 1.0.\u001b[0m\n",
      "\u001b[32m[I 2023-03-28 15:16:04,649]\u001b[0m Trial 32 finished with value: 0.958041958041958 and parameters: {'depth': 5, 'l2_leaf_reg': 0.8914905568293292}. Best is trial 27 with value: 1.0.\u001b[0m\n",
      "\u001b[32m[I 2023-03-28 15:16:05,258]\u001b[0m Trial 33 finished with value: 0.993006993006993 and parameters: {'depth': 5, 'l2_leaf_reg': 0.1013404024411744}. Best is trial 27 with value: 1.0.\u001b[0m\n",
      "\u001b[32m[I 2023-03-28 15:16:05,935]\u001b[0m Trial 34 finished with value: 0.9790209790209791 and parameters: {'depth': 5, 'l2_leaf_reg': 0.010562353040939006}. Best is trial 27 with value: 1.0.\u001b[0m\n",
      "\u001b[32m[I 2023-03-28 15:16:06,630]\u001b[0m Trial 35 finished with value: 0.9790209790209791 and parameters: {'depth': 5, 'l2_leaf_reg': 0.1313133792156828}. Best is trial 27 with value: 1.0.\u001b[0m\n",
      "\u001b[32m[I 2023-03-28 15:16:07,685]\u001b[0m Trial 36 finished with value: 0.958041958041958 and parameters: {'depth': 6, 'l2_leaf_reg': 0.029892485049666316}. Best is trial 27 with value: 1.0.\u001b[0m\n",
      "\u001b[32m[I 2023-03-28 15:16:08,671]\u001b[0m Trial 37 finished with value: 0.965034965034965 and parameters: {'depth': 5, 'l2_leaf_reg': 0.0072294412388783785}. Best is trial 27 with value: 1.0.\u001b[0m\n",
      "\u001b[32m[I 2023-03-28 15:16:09,865]\u001b[0m Trial 38 finished with value: 0.965034965034965 and parameters: {'depth': 6, 'l2_leaf_reg': 0.06181567367905468}. Best is trial 27 with value: 1.0.\u001b[0m\n",
      "\u001b[32m[I 2023-03-28 15:16:11,434]\u001b[0m Trial 39 finished with value: 0.986013986013986 and parameters: {'depth': 5, 'l2_leaf_reg': 4.360395624107342e-05}. Best is trial 27 with value: 1.0.\u001b[0m\n",
      "\u001b[32m[I 2023-03-28 15:16:12,220]\u001b[0m Trial 40 finished with value: 0.986013986013986 and parameters: {'depth': 5, 'l2_leaf_reg': 0.17755123168983375}. Best is trial 27 with value: 1.0.\u001b[0m\n",
      "\u001b[32m[I 2023-03-28 15:16:12,936]\u001b[0m Trial 41 finished with value: 0.965034965034965 and parameters: {'depth': 4, 'l2_leaf_reg': 0.2948749324877118}. Best is trial 27 with value: 1.0.\u001b[0m\n",
      "\u001b[32m[I 2023-03-28 15:16:13,822]\u001b[0m Trial 42 finished with value: 0.965034965034965 and parameters: {'depth': 4, 'l2_leaf_reg': 0.5716167333509412}. Best is trial 27 with value: 1.0.\u001b[0m\n",
      "\u001b[32m[I 2023-03-28 15:16:14,529]\u001b[0m Trial 43 finished with value: 0.993006993006993 and parameters: {'depth': 4, 'l2_leaf_reg': 1.9275718594116387}. Best is trial 27 with value: 1.0.\u001b[0m\n",
      "\u001b[32m[I 2023-03-28 15:16:15,670]\u001b[0m Trial 44 finished with value: 0.9790209790209791 and parameters: {'depth': 5, 'l2_leaf_reg': 2.0242818075273203}. Best is trial 27 with value: 1.0.\u001b[0m\n",
      "\u001b[32m[I 2023-03-28 15:16:16,584]\u001b[0m Trial 45 finished with value: 0.986013986013986 and parameters: {'depth': 4, 'l2_leaf_reg': 3.6229360031097917}. Best is trial 27 with value: 1.0.\u001b[0m\n",
      "\u001b[32m[I 2023-03-28 15:16:17,381]\u001b[0m Trial 46 finished with value: 0.9790209790209791 and parameters: {'depth': 5, 'l2_leaf_reg': 1.377962823235501e-05}. Best is trial 27 with value: 1.0.\u001b[0m\n",
      "\u001b[32m[I 2023-03-28 15:16:19,049]\u001b[0m Trial 47 finished with value: 0.9790209790209791 and parameters: {'depth': 5, 'l2_leaf_reg': 7.067575928567116}. Best is trial 27 with value: 1.0.\u001b[0m\n",
      "\u001b[32m[I 2023-03-28 15:16:19,578]\u001b[0m Trial 48 finished with value: 0.972027972027972 and parameters: {'depth': 4, 'l2_leaf_reg': 0.0034481664337725256}. Best is trial 27 with value: 1.0.\u001b[0m\n",
      "\u001b[32m[I 2023-03-28 15:16:20,980]\u001b[0m Trial 49 finished with value: 0.965034965034965 and parameters: {'depth': 6, 'l2_leaf_reg': 0.52404902679672}. Best is trial 27 with value: 1.0.\u001b[0m\n",
      "\u001b[32m[I 2023-03-28 15:16:21,569]\u001b[0m Trial 50 finished with value: 0.972027972027972 and parameters: {'depth': 3, 'l2_leaf_reg': 1.854698382508758}. Best is trial 27 with value: 1.0.\u001b[0m\n",
      "\u001b[32m[I 2023-03-28 15:16:22,097]\u001b[0m Trial 51 finished with value: 0.9790209790209791 and parameters: {'depth': 4, 'l2_leaf_reg': 0.26224300254020494}. Best is trial 27 with value: 1.0.\u001b[0m\n",
      "\u001b[32m[I 2023-03-28 15:16:22,451]\u001b[0m Trial 52 finished with value: 0.986013986013986 and parameters: {'depth': 3, 'l2_leaf_reg': 1.2606215336282585}. Best is trial 27 with value: 1.0.\u001b[0m\n",
      "\u001b[32m[I 2023-03-28 15:16:22,870]\u001b[0m Trial 53 finished with value: 0.9790209790209791 and parameters: {'depth': 3, 'l2_leaf_reg': 4.9874208462548495}. Best is trial 27 with value: 1.0.\u001b[0m\n",
      "\u001b[32m[I 2023-03-28 15:16:24,010]\u001b[0m Trial 54 finished with value: 0.965034965034965 and parameters: {'depth': 5, 'l2_leaf_reg': 4.600449098452051e-05}. Best is trial 27 with value: 1.0.\u001b[0m\n",
      "\u001b[32m[I 2023-03-28 15:16:24,514]\u001b[0m Trial 55 finished with value: 0.972027972027972 and parameters: {'depth': 4, 'l2_leaf_reg': 3.3909055127641587}. Best is trial 27 with value: 1.0.\u001b[0m\n",
      "\u001b[32m[I 2023-03-28 15:16:25,131]\u001b[0m Trial 56 finished with value: 0.972027972027972 and parameters: {'depth': 5, 'l2_leaf_reg': 0.0001586113670303181}. Best is trial 27 with value: 1.0.\u001b[0m\n",
      "\u001b[32m[I 2023-03-28 15:16:25,600]\u001b[0m Trial 57 finished with value: 0.986013986013986 and parameters: {'depth': 4, 'l2_leaf_reg': 0.0972076526149043}. Best is trial 27 with value: 1.0.\u001b[0m\n",
      "\u001b[32m[I 2023-03-28 15:16:26,100]\u001b[0m Trial 58 finished with value: 0.972027972027972 and parameters: {'depth': 4, 'l2_leaf_reg': 0.19661288301374846}. Best is trial 27 with value: 1.0.\u001b[0m\n",
      "\u001b[32m[I 2023-03-28 15:16:26,764]\u001b[0m Trial 59 finished with value: 0.972027972027972 and parameters: {'depth': 4, 'l2_leaf_reg': 0.05066598940748758}. Best is trial 27 with value: 1.0.\u001b[0m\n",
      "\u001b[32m[I 2023-03-28 15:16:27,541]\u001b[0m Trial 60 finished with value: 0.958041958041958 and parameters: {'depth': 5, 'l2_leaf_reg': 0.02115158977338509}. Best is trial 27 with value: 1.0.\u001b[0m\n",
      "\u001b[32m[I 2023-03-28 15:16:28,247]\u001b[0m Trial 61 finished with value: 0.958041958041958 and parameters: {'depth': 5, 'l2_leaf_reg': 0.07896443734579037}. Best is trial 27 with value: 1.0.\u001b[0m\n",
      "\u001b[32m[I 2023-03-28 15:16:28,958]\u001b[0m Trial 62 finished with value: 0.9790209790209791 and parameters: {'depth': 5, 'l2_leaf_reg': 0.11234190013066643}. Best is trial 27 with value: 1.0.\u001b[0m\n",
      "\u001b[32m[I 2023-03-28 15:16:29,632]\u001b[0m Trial 63 finished with value: 0.965034965034965 and parameters: {'depth': 3, 'l2_leaf_reg': 0.5966392819844014}. Best is trial 27 with value: 1.0.\u001b[0m\n",
      "\u001b[32m[I 2023-03-28 15:16:30,407]\u001b[0m Trial 64 finished with value: 0.986013986013986 and parameters: {'depth': 3, 'l2_leaf_reg': 4.456703743844481e-05}. Best is trial 27 with value: 1.0.\u001b[0m\n",
      "\u001b[32m[I 2023-03-28 15:16:31,001]\u001b[0m Trial 65 finished with value: 0.972027972027972 and parameters: {'depth': 3, 'l2_leaf_reg': 0.0003645195449278702}. Best is trial 27 with value: 1.0.\u001b[0m\n",
      "\u001b[32m[I 2023-03-28 15:16:31,500]\u001b[0m Trial 66 finished with value: 0.965034965034965 and parameters: {'depth': 3, 'l2_leaf_reg': 1.4957908027234432}. Best is trial 27 with value: 1.0.\u001b[0m\n",
      "\u001b[32m[I 2023-03-28 15:16:32,651]\u001b[0m Trial 67 finished with value: 0.965034965034965 and parameters: {'depth': 4, 'l2_leaf_reg': 0.04263567422118998}. Best is trial 27 with value: 1.0.\u001b[0m\n",
      "\u001b[32m[I 2023-03-28 15:16:33,152]\u001b[0m Trial 68 finished with value: 0.9790209790209791 and parameters: {'depth': 3, 'l2_leaf_reg': 1.345426243226021e-05}. Best is trial 27 with value: 1.0.\u001b[0m\n",
      "\u001b[32m[I 2023-03-28 15:16:33,658]\u001b[0m Trial 69 finished with value: 0.965034965034965 and parameters: {'depth': 5, 'l2_leaf_reg': 0.0015269226940715984}. Best is trial 27 with value: 1.0.\u001b[0m\n",
      "\u001b[32m[I 2023-03-28 15:16:34,231]\u001b[0m Trial 70 finished with value: 0.986013986013986 and parameters: {'depth': 4, 'l2_leaf_reg': 0.2332574581993645}. Best is trial 27 with value: 1.0.\u001b[0m\n",
      "\u001b[32m[I 2023-03-28 15:16:34,904]\u001b[0m Trial 71 finished with value: 0.986013986013986 and parameters: {'depth': 5, 'l2_leaf_reg': 0.17637862406862823}. Best is trial 27 with value: 1.0.\u001b[0m\n",
      "\u001b[32m[I 2023-03-28 15:16:35,791]\u001b[0m Trial 72 finished with value: 0.993006993006993 and parameters: {'depth': 5, 'l2_leaf_reg': 0.4352615857746864}. Best is trial 27 with value: 1.0.\u001b[0m\n",
      "\u001b[32m[I 2023-03-28 15:16:36,148]\u001b[0m Trial 73 finished with value: 0.9790209790209791 and parameters: {'depth': 3, 'l2_leaf_reg': 8.635306589914278e-05}. Best is trial 27 with value: 1.0.\u001b[0m\n",
      "\u001b[32m[I 2023-03-28 15:16:36,710]\u001b[0m Trial 74 finished with value: 0.986013986013986 and parameters: {'depth': 5, 'l2_leaf_reg': 0.3913261183591965}. Best is trial 27 with value: 1.0.\u001b[0m\n",
      "\u001b[32m[I 2023-03-28 15:16:37,304]\u001b[0m Trial 75 finished with value: 0.9790209790209791 and parameters: {'depth': 5, 'l2_leaf_reg': 1.2623055443098068}. Best is trial 27 with value: 1.0.\u001b[0m\n",
      "\u001b[32m[I 2023-03-28 15:16:38,043]\u001b[0m Trial 76 finished with value: 0.958041958041958 and parameters: {'depth': 5, 'l2_leaf_reg': 2.3529970836295054e-05}. Best is trial 27 with value: 1.0.\u001b[0m\n",
      "\u001b[32m[I 2023-03-28 15:16:38,912]\u001b[0m Trial 77 finished with value: 0.9790209790209791 and parameters: {'depth': 4, 'l2_leaf_reg': 0.6720237262903533}. Best is trial 27 with value: 1.0.\u001b[0m\n",
      "\u001b[32m[I 2023-03-28 15:16:39,876]\u001b[0m Trial 78 finished with value: 0.993006993006993 and parameters: {'depth': 5, 'l2_leaf_reg': 2.8637955790134733}. Best is trial 27 with value: 1.0.\u001b[0m\n",
      "\u001b[32m[I 2023-03-28 15:16:40,536]\u001b[0m Trial 79 finished with value: 0.993006993006993 and parameters: {'depth': 5, 'l2_leaf_reg': 0.3707065182129913}. Best is trial 27 with value: 1.0.\u001b[0m\n",
      "\u001b[32m[I 2023-03-28 15:16:41,334]\u001b[0m Trial 80 finished with value: 0.972027972027972 and parameters: {'depth': 5, 'l2_leaf_reg': 2.6040537845266463}. Best is trial 27 with value: 1.0.\u001b[0m\n",
      "\u001b[32m[I 2023-03-28 15:16:42,567]\u001b[0m Trial 81 finished with value: 0.993006993006993 and parameters: {'depth': 5, 'l2_leaf_reg': 0.4351189009260367}. Best is trial 27 with value: 1.0.\u001b[0m\n",
      "\u001b[32m[I 2023-03-28 15:16:43,313]\u001b[0m Trial 82 finished with value: 0.986013986013986 and parameters: {'depth': 5, 'l2_leaf_reg': 0.795181036162183}. Best is trial 27 with value: 1.0.\u001b[0m\n",
      "\u001b[32m[I 2023-03-28 15:16:44,268]\u001b[0m Trial 83 finished with value: 0.993006993006993 and parameters: {'depth': 5, 'l2_leaf_reg': 0.41497049953080545}. Best is trial 27 with value: 1.0.\u001b[0m\n",
      "\u001b[32m[I 2023-03-28 15:16:44,995]\u001b[0m Trial 84 finished with value: 0.9790209790209791 and parameters: {'depth': 5, 'l2_leaf_reg': 1.0094831422101112}. Best is trial 27 with value: 1.0.\u001b[0m\n",
      "\u001b[32m[I 2023-03-28 15:16:45,725]\u001b[0m Trial 85 finished with value: 0.965034965034965 and parameters: {'depth': 5, 'l2_leaf_reg': 2.240948397841837}. Best is trial 27 with value: 1.0.\u001b[0m\n",
      "\u001b[32m[I 2023-03-28 15:16:47,299]\u001b[0m Trial 86 finished with value: 0.965034965034965 and parameters: {'depth': 6, 'l2_leaf_reg': 5.210689728854647}. Best is trial 27 with value: 1.0.\u001b[0m\n",
      "\u001b[32m[I 2023-03-28 15:16:48,011]\u001b[0m Trial 87 finished with value: 0.986013986013986 and parameters: {'depth': 5, 'l2_leaf_reg': 0.33688465587411287}. Best is trial 27 with value: 1.0.\u001b[0m\n",
      "\u001b[32m[I 2023-03-28 15:16:48,713]\u001b[0m Trial 88 finished with value: 0.9790209790209791 and parameters: {'depth': 5, 'l2_leaf_reg': 0.47373146049447434}. Best is trial 27 with value: 1.0.\u001b[0m\n",
      "\u001b[32m[I 2023-03-28 15:16:49,316]\u001b[0m Trial 89 finished with value: 0.972027972027972 and parameters: {'depth': 5, 'l2_leaf_reg': 3.1152530789484913}. Best is trial 27 with value: 1.0.\u001b[0m\n",
      "\u001b[32m[I 2023-03-28 15:16:49,898]\u001b[0m Trial 90 finished with value: 0.993006993006993 and parameters: {'depth': 5, 'l2_leaf_reg': 0.42467887346421973}. Best is trial 27 with value: 1.0.\u001b[0m\n",
      "\u001b[32m[I 2023-03-28 15:16:50,542]\u001b[0m Trial 91 finished with value: 0.986013986013986 and parameters: {'depth': 5, 'l2_leaf_reg': 0.14120317665870818}. Best is trial 27 with value: 1.0.\u001b[0m\n",
      "\u001b[32m[I 2023-03-28 15:16:51,665]\u001b[0m Trial 92 finished with value: 0.986013986013986 and parameters: {'depth': 5, 'l2_leaf_reg': 0.7251236372681342}. Best is trial 27 with value: 1.0.\u001b[0m\n",
      "\u001b[32m[I 2023-03-28 15:16:52,329]\u001b[0m Trial 93 finished with value: 0.965034965034965 and parameters: {'depth': 5, 'l2_leaf_reg': 9.06993066341389}. Best is trial 27 with value: 1.0.\u001b[0m\n",
      "\u001b[32m[I 2023-03-28 15:16:52,918]\u001b[0m Trial 94 finished with value: 0.972027972027972 and parameters: {'depth': 5, 'l2_leaf_reg': 1.337471474355759}. Best is trial 27 with value: 1.0.\u001b[0m\n",
      "\u001b[32m[I 2023-03-28 15:16:53,701]\u001b[0m Trial 95 finished with value: 0.993006993006993 and parameters: {'depth': 5, 'l2_leaf_reg': 0.3625905789937633}. Best is trial 27 with value: 1.0.\u001b[0m\n",
      "\u001b[32m[I 2023-03-28 15:16:54,472]\u001b[0m Trial 96 finished with value: 0.986013986013986 and parameters: {'depth': 5, 'l2_leaf_reg': 0.24160497174253023}. Best is trial 27 with value: 1.0.\u001b[0m\n",
      "\u001b[32m[I 2023-03-28 15:16:55,060]\u001b[0m Trial 97 finished with value: 0.9790209790209791 and parameters: {'depth': 5, 'l2_leaf_reg': 0.011319037015183529}. Best is trial 27 with value: 1.0.\u001b[0m\n",
      "\u001b[32m[I 2023-03-28 15:16:55,693]\u001b[0m Trial 98 finished with value: 0.972027972027972 and parameters: {'depth': 5, 'l2_leaf_reg': 4.2882416261966245}. Best is trial 27 with value: 1.0.\u001b[0m\n",
      "\u001b[32m[I 2023-03-28 15:16:56,539]\u001b[0m Trial 99 finished with value: 0.9790209790209791 and parameters: {'depth': 5, 'l2_leaf_reg': 0.46039712270848804}. Best is trial 27 with value: 1.0.\u001b[0m\n",
      "Best validation accuracy: 1.000\n",
      "Best hyperparameters: {'depth': 5, 'l2_leaf_reg': 1.195826154259436}\n"
     ]
    }
   ],
   "source": [
    "import optuna\n",
    "import catboost as cb\n",
    "from sklearn.datasets import load_breast_cancer\n",
    "from sklearn.model_selection import train_test_split\n",
    "\n",
    "# Загрузить набор данных по раку молочной железы\n",
    "data, target = load_breast_cancer(return_X_y=True)\n",
    "\n",
    "# Разделите данные на обучающий и проверочный наборы\n",
    "train_x, valid_x, train_y, valid_y = train_test_split(data, target, test_size=0.25, random_state=0)\n",
    "\n",
    "# Определите объективную функцию для оптимизации\n",
    "def objective(trial):\n",
    "    # Определите пространство поиска для гиперпараметров\n",
    "    params = {\n",
    "        'objective': 'Logloss',\n",
    "        'eval_metric': 'AUC',\n",
    "        'verbose': True,\n",
    "        'depth': trial.suggest_int('depth', 3, 6),\n",
    "        'l2_leaf_reg': trial.suggest_float('l2_leaf_reg', 1e-5, 10, log=True),\n",
    "        'n_estimators': 1000,\n",
    "        'learning_rate':0.2\n",
    "    }\n",
    "\n",
    "    # Обучить модель, используя заданные гиперпараметры\n",
    "    model = cb.CatBoostClassifier(**params)\n",
    "    model.fit(train_x, train_y, eval_set=(valid_x, valid_y), early_stopping_rounds=100, verbose=False)\n",
    "\n",
    "    # Вычислить точность валидации\n",
    "    valid_pred = model.predict_proba(valid_x)[:, 1]\n",
    "    valid_acc = ((valid_pred > 0.5) == valid_y).mean()\n",
    "\n",
    "    # Возвращаем точность валидации в качестве объективного значения\n",
    "    return valid_acc\n",
    "\n",
    "# Создайте объект исследования и оптимизируйте объективную функцию\n",
    "study = optuna.create_study(direction='maximize')\n",
    "study.optimize(objective, n_trials=100, show_progress_bar=True)\n",
    "\n",
    "# Выведите наилучшую точность валидации и гиперпараметры\n",
    "print('Best validation accuracy: {:.3f}'.format(study.best_value))\n",
    "print('Best hyperparameters: {}'.format(study.best_params))"
   ]
  }
 ],
 "metadata": {
  "colab": {
   "provenance": []
  },
  "kernelspec": {
   "display_name": "Python 3 (ipykernel)",
   "language": "python",
   "name": "python3"
  },
  "language_info": {
   "codemirror_mode": {
    "name": "ipython",
    "version": 3
   },
   "file_extension": ".py",
   "mimetype": "text/x-python",
   "name": "python",
   "nbconvert_exporter": "python",
   "pygments_lexer": "ipython3",
   "version": "3.10.8"
  }
 },
 "nbformat": 4,
 "nbformat_minor": 4
}
